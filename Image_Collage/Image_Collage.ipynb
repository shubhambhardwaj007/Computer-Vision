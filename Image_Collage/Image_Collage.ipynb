{
 "cells": [
  {
   "cell_type": "markdown",
   "id": "3ccd3e55",
   "metadata": {},
   "source": [
    "#### Importing Libraries"
   ]
  },
  {
   "cell_type": "code",
   "execution_count": null,
   "id": "dc4dfab5",
   "metadata": {},
   "outputs": [],
   "source": [
    "import cv2\n",
    "import numpy"
   ]
  },
  {
   "cell_type": "markdown",
   "id": "0063935f",
   "metadata": {},
   "source": [
    "#### Storing Image 1 in variable test_image_1"
   ]
  },
  {
   "cell_type": "code",
   "execution_count": null,
   "id": "2542193f",
   "metadata": {},
   "outputs": [],
   "source": [
    "test_image_1=cv2.imread(\"test_images/test_image1.jpg\")"
   ]
  },
  {
   "cell_type": "markdown",
   "id": "06a7415f",
   "metadata": {},
   "source": [
    "#### Displaying Image 1"
   ]
  },
  {
   "cell_type": "code",
   "execution_count": null,
   "id": "80ce5209",
   "metadata": {},
   "outputs": [],
   "source": [
    "cv2.imshow(\"test_image_1\",test_image_1)\n",
    "cv2.waitKey()\n",
    "cv2.destroyAllWindows()"
   ]
  },
  {
   "cell_type": "markdown",
   "id": "3c358446",
   "metadata": {},
   "source": [
    "#### Storing Image 2 in variable test_image_2"
   ]
  },
  {
   "cell_type": "code",
   "execution_count": null,
   "id": "ea58a0f8",
   "metadata": {},
   "outputs": [],
   "source": [
    "test_image_2=cv2.imread(\"test_images/test_image2.png\")"
   ]
  },
  {
   "cell_type": "markdown",
   "id": "51b709d4",
   "metadata": {},
   "source": [
    "#### Displaying Image 2"
   ]
  },
  {
   "cell_type": "code",
   "execution_count": null,
   "id": "91cf9d5e",
   "metadata": {},
   "outputs": [],
   "source": [
    "cv2.imshow(\"test_image_2\",test_image_2)\n",
    "cv2.waitKey()\n",
    "cv2.destroyAllWindows()"
   ]
  },
  {
   "cell_type": "code",
   "execution_count": null,
   "id": "a4f41721",
   "metadata": {},
   "outputs": [],
   "source": [
    "test_image_1.shape"
   ]
  },
  {
   "cell_type": "code",
   "execution_count": null,
   "id": "414d15b9",
   "metadata": {},
   "outputs": [],
   "source": [
    "test_image_2.shape"
   ]
  },
  {
   "cell_type": "markdown",
   "id": "8c03dca5",
   "metadata": {},
   "source": [
    "#### Creating Collage and Displaying it"
   ]
  },
  {
   "cell_type": "code",
   "execution_count": null,
   "id": "2755e8a3",
   "metadata": {},
   "outputs": [],
   "source": [
    "collage=numpy.hstack((test_image_1,test_image_2))\n",
    "cv2.imshow(\"test_image_2\",collage)\n",
    "cv2.waitKey()\n",
    "cv2.destroyAllWindows()"
   ]
  },
  {
   "cell_type": "code",
   "execution_count": null,
   "id": "50401419",
   "metadata": {},
   "outputs": [],
   "source": []
  },
  {
   "cell_type": "code",
   "execution_count": null,
   "id": "5fdd1e8f",
   "metadata": {},
   "outputs": [],
   "source": []
  }
 ],
 "metadata": {
  "kernelspec": {
   "display_name": "Python 3",
   "language": "python",
   "name": "python3"
  },
  "language_info": {
   "codemirror_mode": {
    "name": "ipython",
    "version": 3
   },
   "file_extension": ".py",
   "mimetype": "text/x-python",
   "name": "python",
   "nbconvert_exporter": "python",
   "pygments_lexer": "ipython3",
   "version": "3.6.8"
  }
 },
 "nbformat": 4,
 "nbformat_minor": 5
}
