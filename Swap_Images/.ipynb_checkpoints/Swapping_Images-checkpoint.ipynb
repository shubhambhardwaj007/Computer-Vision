{
 "cells": [
  {
   "cell_type": "markdown",
   "id": "1dcc568b",
   "metadata": {},
   "source": [
    "### Importing Modules"
   ]
  },
  {
   "cell_type": "code",
   "execution_count": 6,
   "id": "d6aa6d48",
   "metadata": {},
   "outputs": [],
   "source": [
    "import cv2\n",
    "import numpy"
   ]
  },
  {
   "cell_type": "markdown",
   "id": "f50b9a3b",
   "metadata": {},
   "source": [
    "### Storing Image 1 in variable test_image_1"
   ]
  },
  {
   "cell_type": "code",
   "execution_count": 7,
   "id": "1f59111c",
   "metadata": {},
   "outputs": [],
   "source": [
    "test_image_1=cv2.imread(\"test_images/test_image1.jpg\")"
   ]
  },
  {
   "cell_type": "markdown",
   "id": "8a98fb12",
   "metadata": {},
   "source": [
    "### Displaying Image 1"
   ]
  },
  {
   "cell_type": "code",
   "execution_count": 16,
   "id": "46f72d87",
   "metadata": {},
   "outputs": [],
   "source": [
    "cv2.imshow(\"test_image_1\",test_image_1)\n",
    "cv2.waitKey()\n",
    "cv2.destroyAllWindows()"
   ]
  },
  {
   "cell_type": "markdown",
   "id": "4a39b33c",
   "metadata": {},
   "source": [
    "### Storing Image 2 in variable test_image_2"
   ]
  },
  {
   "cell_type": "code",
   "execution_count": 36,
   "id": "9d7a949d",
   "metadata": {},
   "outputs": [],
   "source": [
    "test_image_2=cv2.imread(\"test_images/test_image2.jpg\")"
   ]
  },
  {
   "cell_type": "markdown",
   "id": "8dbecac4",
   "metadata": {},
   "source": [
    "### Displaying Image 2"
   ]
  },
  {
   "cell_type": "code",
   "execution_count": 38,
   "id": "32c6fbaa",
   "metadata": {},
   "outputs": [],
   "source": [
    "cv2.imshow(\"test_image_2\",test_image_2)\n",
    "cv2.waitKey()\n",
    "cv2.destroyAllWindows()"
   ]
  },
  {
   "cell_type": "markdown",
   "id": "4214b693",
   "metadata": {},
   "source": [
    "### Cropping Image 1"
   ]
  },
  {
   "cell_type": "code",
   "execution_count": 19,
   "id": "6ace1c93",
   "metadata": {},
   "outputs": [],
   "source": [
    "cropped_image_1=test_image_1[33:413,104:670]"
   ]
  },
  {
   "cell_type": "markdown",
   "id": "abe0a7eb",
   "metadata": {},
   "source": [
    "### Displaying Cropped Image 1"
   ]
  },
  {
   "cell_type": "code",
   "execution_count": 55,
   "id": "0363651e",
   "metadata": {},
   "outputs": [],
   "source": [
    "cv2.imshow(\"cropped_image_1\",cropped_image_1)\n",
    "cv2.waitKey()\n",
    "cv2.destroyAllWindows()"
   ]
  },
  {
   "cell_type": "code",
   "execution_count": 56,
   "id": "d5c47245",
   "metadata": {},
   "outputs": [
    {
     "data": {
      "text/plain": [
       "(380, 566, 3)"
      ]
     },
     "execution_count": 56,
     "metadata": {},
     "output_type": "execute_result"
    }
   ],
   "source": [
    "cropped_image_1.shape"
   ]
  },
  {
   "cell_type": "markdown",
   "id": "cecad2d7",
   "metadata": {},
   "source": [
    "### Cropping Image 2"
   ]
  },
  {
   "cell_type": "code",
   "execution_count": 45,
   "id": "0e55bcee",
   "metadata": {},
   "outputs": [],
   "source": [
    "cropped_image_2=test_image_2[70:379,74:723]"
   ]
  },
  {
   "cell_type": "markdown",
   "id": "599423a4",
   "metadata": {},
   "source": [
    "### Displaying Cropped Image 2"
   ]
  },
  {
   "cell_type": "code",
   "execution_count": 52,
   "id": "ea8e0b33",
   "metadata": {},
   "outputs": [],
   "source": [
    "cv2.imshow(\"cropped_image_2\",cropped_image_2)\n",
    "cv2.waitKey()\n",
    "cv2.destroyAllWindows()"
   ]
  },
  {
   "cell_type": "code",
   "execution_count": 50,
   "id": "40828d74",
   "metadata": {},
   "outputs": [
    {
     "data": {
      "text/plain": [
       "(309, 649, 3)"
      ]
     },
     "execution_count": 50,
     "metadata": {},
     "output_type": "execute_result"
    }
   ],
   "source": [
    "cropped_image_2.shape"
   ]
  },
  {
   "cell_type": "markdown",
   "id": "7cd42534",
   "metadata": {},
   "source": [
    "#### Resizing Cropped Image 1 to Image 2 dimensions"
   ]
  },
  {
   "cell_type": "code",
   "execution_count": 53,
   "id": "f1726ba1",
   "metadata": {},
   "outputs": [],
   "source": [
    "resized_image_1=cv2.resize(cropped_image_1,(cropped_image_2.shape[1],cropped_image_2.shape[0]))"
   ]
  },
  {
   "cell_type": "code",
   "execution_count": 54,
   "id": "5eff3b63",
   "metadata": {},
   "outputs": [
    {
     "data": {
      "text/plain": [
       "(309, 649, 3)"
      ]
     },
     "execution_count": 54,
     "metadata": {},
     "output_type": "execute_result"
    }
   ],
   "source": [
    "resized_image_1.shape"
   ]
  },
  {
   "cell_type": "markdown",
   "id": "6050939e",
   "metadata": {},
   "source": [
    "#### Resizing Cropped Image 2 to Image 1 dimensions"
   ]
  },
  {
   "cell_type": "code",
   "execution_count": 58,
   "id": "4f6dff3c",
   "metadata": {},
   "outputs": [],
   "source": [
    "resized_image_2=cv2.resize(cropped_image_2,(cropped_image_1.shape[1],cropped_image_1.shape[0]))"
   ]
  },
  {
   "cell_type": "code",
   "execution_count": 1,
   "id": "8ebe1bdb",
   "metadata": {},
   "outputs": [
    {
     "ename": "NameError",
     "evalue": "name 'resized_image_2' is not defined",
     "output_type": "error",
     "traceback": [
      "\u001b[0;31m---------------------------------------------------------------------------\u001b[0m",
      "\u001b[0;31mNameError\u001b[0m                                 Traceback (most recent call last)",
      "\u001b[0;32m<ipython-input-1-87a902834a08>\u001b[0m in \u001b[0;36m<module>\u001b[0;34m\u001b[0m\n\u001b[0;32m----> 1\u001b[0;31m \u001b[0mresized_image_2\u001b[0m\u001b[0;34m.\u001b[0m\u001b[0mshape\u001b[0m\u001b[0;34m\u001b[0m\u001b[0;34m\u001b[0m\u001b[0m\n\u001b[0m",
      "\u001b[0;31mNameError\u001b[0m: name 'resized_image_2' is not defined"
     ]
    }
   ],
   "source": [
    "resized_image_2.shape"
   ]
  },
  {
   "cell_type": "code",
   "execution_count": null,
   "id": "1d5d85a5",
   "metadata": {},
   "outputs": [],
   "source": [
    "#### Swapping Photo Frame"
   ]
  },
  {
   "cell_type": "code",
   "execution_count": 2,
   "id": "267d249f",
   "metadata": {},
   "outputs": [
    {
     "ename": "NameError",
     "evalue": "name 'resized_image_2' is not defined",
     "output_type": "error",
     "traceback": [
      "\u001b[0;31m---------------------------------------------------------------------------\u001b[0m",
      "\u001b[0;31mNameError\u001b[0m                                 Traceback (most recent call last)",
      "\u001b[0;32m<ipython-input-2-42769a51369a>\u001b[0m in \u001b[0;36m<module>\u001b[0;34m\u001b[0m\n\u001b[0;32m----> 1\u001b[0;31m \u001b[0mtest_image_1\u001b[0m\u001b[0;34m[\u001b[0m\u001b[0;36m33\u001b[0m\u001b[0;34m:\u001b[0m\u001b[0;36m413\u001b[0m\u001b[0;34m,\u001b[0m\u001b[0;36m104\u001b[0m\u001b[0;34m:\u001b[0m\u001b[0;36m670\u001b[0m\u001b[0;34m]\u001b[0m\u001b[0;34m=\u001b[0m\u001b[0mresized_image_2\u001b[0m\u001b[0;34m\u001b[0m\u001b[0;34m\u001b[0m\u001b[0m\n\u001b[0m",
      "\u001b[0;31mNameError\u001b[0m: name 'resized_image_2' is not defined"
     ]
    }
   ],
   "source": [
    "test_image_1[33:413,104:670]=resized_image_2"
   ]
  },
  {
   "cell_type": "code",
   "execution_count": null,
   "id": "daa95e76",
   "metadata": {},
   "outputs": [],
   "source": [
    "#### Displaying updated Image 1"
   ]
  },
  {
   "cell_type": "code",
   "execution_count": 3,
   "id": "cbe34299",
   "metadata": {},
   "outputs": [
    {
     "ename": "NameError",
     "evalue": "name 'cv2' is not defined",
     "output_type": "error",
     "traceback": [
      "\u001b[0;31m---------------------------------------------------------------------------\u001b[0m",
      "\u001b[0;31mNameError\u001b[0m                                 Traceback (most recent call last)",
      "\u001b[0;32m<ipython-input-3-175423b59856>\u001b[0m in \u001b[0;36m<module>\u001b[0;34m\u001b[0m\n\u001b[0;32m----> 1\u001b[0;31m \u001b[0mcv2\u001b[0m\u001b[0;34m.\u001b[0m\u001b[0mimshow\u001b[0m\u001b[0;34m(\u001b[0m\u001b[0;34m\"test_image_1\"\u001b[0m\u001b[0;34m,\u001b[0m\u001b[0mtest_image_1\u001b[0m\u001b[0;34m)\u001b[0m\u001b[0;34m\u001b[0m\u001b[0;34m\u001b[0m\u001b[0m\n\u001b[0m\u001b[1;32m      2\u001b[0m \u001b[0mcv2\u001b[0m\u001b[0;34m.\u001b[0m\u001b[0mwaitKey\u001b[0m\u001b[0;34m(\u001b[0m\u001b[0;34m)\u001b[0m\u001b[0;34m\u001b[0m\u001b[0;34m\u001b[0m\u001b[0m\n\u001b[1;32m      3\u001b[0m \u001b[0mcv2\u001b[0m\u001b[0;34m.\u001b[0m\u001b[0mdestroyAllWindows\u001b[0m\u001b[0;34m(\u001b[0m\u001b[0;34m)\u001b[0m\u001b[0;34m\u001b[0m\u001b[0;34m\u001b[0m\u001b[0m\n",
      "\u001b[0;31mNameError\u001b[0m: name 'cv2' is not defined"
     ]
    }
   ],
   "source": [
    "cv2.imshow(\"test_image_1\",test_image_1)\n",
    "cv2.waitKey()\n",
    "cv2.destroyAllWindows()"
   ]
  },
  {
   "cell_type": "code",
   "execution_count": null,
   "id": "a2459f1c",
   "metadata": {},
   "outputs": [],
   "source": [
    "#### Swapping Photo Frame"
   ]
  },
  {
   "cell_type": "code",
   "execution_count": 4,
   "id": "d337d791",
   "metadata": {},
   "outputs": [
    {
     "ename": "NameError",
     "evalue": "name 'resized_image_1' is not defined",
     "output_type": "error",
     "traceback": [
      "\u001b[0;31m---------------------------------------------------------------------------\u001b[0m",
      "\u001b[0;31mNameError\u001b[0m                                 Traceback (most recent call last)",
      "\u001b[0;32m<ipython-input-4-588ab0005e61>\u001b[0m in \u001b[0;36m<module>\u001b[0;34m\u001b[0m\n\u001b[0;32m----> 1\u001b[0;31m \u001b[0mtest_image_2\u001b[0m\u001b[0;34m[\u001b[0m\u001b[0;36m70\u001b[0m\u001b[0;34m:\u001b[0m\u001b[0;36m379\u001b[0m\u001b[0;34m,\u001b[0m\u001b[0;36m74\u001b[0m\u001b[0;34m:\u001b[0m\u001b[0;36m723\u001b[0m\u001b[0;34m]\u001b[0m\u001b[0;34m=\u001b[0m\u001b[0mresized_image_1\u001b[0m\u001b[0;34m\u001b[0m\u001b[0;34m\u001b[0m\u001b[0m\n\u001b[0m",
      "\u001b[0;31mNameError\u001b[0m: name 'resized_image_1' is not defined"
     ]
    }
   ],
   "source": [
    "test_image_2[70:379,74:723]=resized_image_1"
   ]
  },
  {
   "cell_type": "code",
   "execution_count": null,
   "id": "ba03a424",
   "metadata": {},
   "outputs": [],
   "source": [
    "#### Displaying Updated Image 2"
   ]
  },
  {
   "cell_type": "code",
   "execution_count": 5,
   "id": "90c42344",
   "metadata": {},
   "outputs": [
    {
     "ename": "NameError",
     "evalue": "name 'cv2' is not defined",
     "output_type": "error",
     "traceback": [
      "\u001b[0;31m---------------------------------------------------------------------------\u001b[0m",
      "\u001b[0;31mNameError\u001b[0m                                 Traceback (most recent call last)",
      "\u001b[0;32m<ipython-input-5-175423b59856>\u001b[0m in \u001b[0;36m<module>\u001b[0;34m\u001b[0m\n\u001b[0;32m----> 1\u001b[0;31m \u001b[0mcv2\u001b[0m\u001b[0;34m.\u001b[0m\u001b[0mimshow\u001b[0m\u001b[0;34m(\u001b[0m\u001b[0;34m\"test_image_1\"\u001b[0m\u001b[0;34m,\u001b[0m\u001b[0mtest_image_1\u001b[0m\u001b[0;34m)\u001b[0m\u001b[0;34m\u001b[0m\u001b[0;34m\u001b[0m\u001b[0m\n\u001b[0m\u001b[1;32m      2\u001b[0m \u001b[0mcv2\u001b[0m\u001b[0;34m.\u001b[0m\u001b[0mwaitKey\u001b[0m\u001b[0;34m(\u001b[0m\u001b[0;34m)\u001b[0m\u001b[0;34m\u001b[0m\u001b[0;34m\u001b[0m\u001b[0m\n\u001b[1;32m      3\u001b[0m \u001b[0mcv2\u001b[0m\u001b[0;34m.\u001b[0m\u001b[0mdestroyAllWindows\u001b[0m\u001b[0;34m(\u001b[0m\u001b[0;34m)\u001b[0m\u001b[0;34m\u001b[0m\u001b[0;34m\u001b[0m\u001b[0m\n",
      "\u001b[0;31mNameError\u001b[0m: name 'cv2' is not defined"
     ]
    }
   ],
   "source": [
    "cv2.imshow(\"test_image_1\",test_image_1)\n",
    "cv2.waitKey()\n",
    "cv2.destroyAllWindows()"
   ]
  },
  {
   "cell_type": "markdown",
   "id": "92b2d4cf",
   "metadata": {},
   "source": [
    "#### Saving updated photos"
   ]
  },
  {
   "cell_type": "code",
   "execution_count": 6,
   "id": "9911c9b9",
   "metadata": {},
   "outputs": [
    {
     "ename": "NameError",
     "evalue": "name 'cv2' is not defined",
     "output_type": "error",
     "traceback": [
      "\u001b[0;31m---------------------------------------------------------------------------\u001b[0m",
      "\u001b[0;31mNameError\u001b[0m                                 Traceback (most recent call last)",
      "\u001b[0;32m<ipython-input-6-c73accb83829>\u001b[0m in \u001b[0;36m<module>\u001b[0;34m\u001b[0m\n\u001b[0;32m----> 1\u001b[0;31m \u001b[0mcv2\u001b[0m\u001b[0;34m.\u001b[0m\u001b[0mimwrite\u001b[0m\u001b[0;34m(\u001b[0m\u001b[0;34m\"updated_images/updated_image_1.jpg\"\u001b[0m\u001b[0;34m,\u001b[0m\u001b[0mtest_image_1\u001b[0m\u001b[0;34m)\u001b[0m\u001b[0;34m\u001b[0m\u001b[0;34m\u001b[0m\u001b[0m\n\u001b[0m\u001b[1;32m      2\u001b[0m \u001b[0mcv2\u001b[0m\u001b[0;34m.\u001b[0m\u001b[0mimwrite\u001b[0m\u001b[0;34m(\u001b[0m\u001b[0;34m\"updated_images/updated_image_2.jpg\"\u001b[0m\u001b[0;34m,\u001b[0m\u001b[0mtest_image_2\u001b[0m\u001b[0;34m)\u001b[0m\u001b[0;34m\u001b[0m\u001b[0;34m\u001b[0m\u001b[0m\n",
      "\u001b[0;31mNameError\u001b[0m: name 'cv2' is not defined"
     ]
    }
   ],
   "source": [
    "cv2.imwrite(\"updated_images/updated_image_1.jpg\",test_image_1)\n",
    "cv2.imwrite(\"updated_images/updated_image_2.jpg\",test_image_2)"
   ]
  },
  {
   "cell_type": "code",
   "execution_count": null,
   "id": "f707fb24",
   "metadata": {},
   "outputs": [],
   "source": []
  }
 ],
 "metadata": {
  "kernelspec": {
   "display_name": "Python 3",
   "language": "python",
   "name": "python3"
  },
  "language_info": {
   "codemirror_mode": {
    "name": "ipython",
    "version": 3
   },
   "file_extension": ".py",
   "mimetype": "text/x-python",
   "name": "python",
   "nbconvert_exporter": "python",
   "pygments_lexer": "ipython3",
   "version": "3.6.8"
  }
 },
 "nbformat": 4,
 "nbformat_minor": 5
}
