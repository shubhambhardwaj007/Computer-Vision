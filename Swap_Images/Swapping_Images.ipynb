{
 "cells": [
  {
   "cell_type": "markdown",
   "id": "1dcc568b",
   "metadata": {},
   "source": [
    "### Importing Modules"
   ]
  },
  {
   "cell_type": "code",
   "execution_count": 7,
   "id": "d6aa6d48",
   "metadata": {},
   "outputs": [],
   "source": [
    "import cv2\n",
    "import numpy"
   ]
  },
  {
   "cell_type": "markdown",
   "id": "f50b9a3b",
   "metadata": {},
   "source": [
    "### Storing Image 1 in variable test_image_1"
   ]
  },
  {
   "cell_type": "code",
   "execution_count": 31,
   "id": "1f59111c",
   "metadata": {},
   "outputs": [],
   "source": [
    "test_image_1=cv2.imread(\"test_images/test_image1.jpg\")"
   ]
  },
  {
   "cell_type": "markdown",
   "id": "8a98fb12",
   "metadata": {},
   "source": [
    "### Displaying Image 1"
   ]
  },
  {
   "cell_type": "code",
   "execution_count": 32,
   "id": "46f72d87",
   "metadata": {},
   "outputs": [],
   "source": [
    "cv2.imshow(\"test_image_1\",test_image_1)\n",
    "cv2.waitKey()\n",
    "cv2.destroyAllWindows()"
   ]
  },
  {
   "cell_type": "markdown",
   "id": "4a39b33c",
   "metadata": {},
   "source": [
    "### Storing Image 2 in variable test_image_2"
   ]
  },
  {
   "cell_type": "code",
   "execution_count": 33,
   "id": "9d7a949d",
   "metadata": {},
   "outputs": [],
   "source": [
    "test_image_2=cv2.imread(\"test_images/test_image2.jpg\")"
   ]
  },
  {
   "cell_type": "markdown",
   "id": "8dbecac4",
   "metadata": {},
   "source": [
    "### Displaying Image 2"
   ]
  },
  {
   "cell_type": "code",
   "execution_count": 34,
   "id": "32c6fbaa",
   "metadata": {},
   "outputs": [],
   "source": [
    "cv2.imshow(\"test_image_2\",test_image_2)\n",
    "cv2.waitKey()\n",
    "cv2.destroyAllWindows()"
   ]
  },
  {
   "cell_type": "markdown",
   "id": "4214b693",
   "metadata": {},
   "source": [
    "### Cropping Image 1"
   ]
  },
  {
   "cell_type": "code",
   "execution_count": 35,
   "id": "6ace1c93",
   "metadata": {},
   "outputs": [],
   "source": [
    "cropped_image_1=test_image_1[33:413,104:670]"
   ]
  },
  {
   "cell_type": "markdown",
   "id": "abe0a7eb",
   "metadata": {},
   "source": [
    "### Displaying Cropped Image 1"
   ]
  },
  {
   "cell_type": "code",
   "execution_count": 36,
   "id": "0363651e",
   "metadata": {},
   "outputs": [],
   "source": [
    "cv2.imshow(\"cropped_image_1\",cropped_image_1)\n",
    "cv2.waitKey()\n",
    "cv2.destroyAllWindows()"
   ]
  },
  {
   "cell_type": "code",
   "execution_count": 37,
   "id": "d5c47245",
   "metadata": {},
   "outputs": [
    {
     "data": {
      "text/plain": [
       "(380, 566, 3)"
      ]
     },
     "execution_count": 37,
     "metadata": {},
     "output_type": "execute_result"
    }
   ],
   "source": [
    "cropped_image_1.shape"
   ]
  },
  {
   "cell_type": "markdown",
   "id": "cecad2d7",
   "metadata": {},
   "source": [
    "### Cropping Image 2"
   ]
  },
  {
   "cell_type": "code",
   "execution_count": 38,
   "id": "0e55bcee",
   "metadata": {},
   "outputs": [],
   "source": [
    "cropped_image_2=test_image_2[70:379,74:723]"
   ]
  },
  {
   "cell_type": "markdown",
   "id": "599423a4",
   "metadata": {},
   "source": [
    "### Displaying Cropped Image 2"
   ]
  },
  {
   "cell_type": "code",
   "execution_count": 39,
   "id": "ea8e0b33",
   "metadata": {},
   "outputs": [],
   "source": [
    "cv2.imshow(\"cropped_image_2\",cropped_image_2)\n",
    "cv2.waitKey()\n",
    "cv2.destroyAllWindows()"
   ]
  },
  {
   "cell_type": "code",
   "execution_count": 40,
   "id": "40828d74",
   "metadata": {},
   "outputs": [
    {
     "data": {
      "text/plain": [
       "(309, 649, 3)"
      ]
     },
     "execution_count": 40,
     "metadata": {},
     "output_type": "execute_result"
    }
   ],
   "source": [
    "cropped_image_2.shape"
   ]
  },
  {
   "cell_type": "markdown",
   "id": "7cd42534",
   "metadata": {},
   "source": [
    "#### Resizing Cropped Image 1 to Image 2 dimensions"
   ]
  },
  {
   "cell_type": "code",
   "execution_count": 41,
   "id": "f1726ba1",
   "metadata": {},
   "outputs": [],
   "source": [
    "resized_image_1=cv2.resize(cropped_image_1,(cropped_image_2.shape[1],cropped_image_2.shape[0]))"
   ]
  },
  {
   "cell_type": "code",
   "execution_count": 42,
   "id": "5eff3b63",
   "metadata": {},
   "outputs": [
    {
     "data": {
      "text/plain": [
       "(309, 649, 3)"
      ]
     },
     "execution_count": 42,
     "metadata": {},
     "output_type": "execute_result"
    }
   ],
   "source": [
    "resized_image_1.shape"
   ]
  },
  {
   "cell_type": "markdown",
   "id": "6050939e",
   "metadata": {},
   "source": [
    "#### Resizing Cropped Image 2 to Image 1 dimensions"
   ]
  },
  {
   "cell_type": "code",
   "execution_count": 43,
   "id": "4f6dff3c",
   "metadata": {},
   "outputs": [],
   "source": [
    "resized_image_2=cv2.resize(cropped_image_2,(cropped_image_1.shape[1],cropped_image_1.shape[0]))"
   ]
  },
  {
   "cell_type": "code",
   "execution_count": 44,
   "id": "8ebe1bdb",
   "metadata": {},
   "outputs": [
    {
     "data": {
      "text/plain": [
       "(380, 566, 3)"
      ]
     },
     "execution_count": 44,
     "metadata": {},
     "output_type": "execute_result"
    }
   ],
   "source": [
    "resized_image_2.shape"
   ]
  },
  {
   "cell_type": "code",
   "execution_count": 45,
   "id": "93ec7959",
   "metadata": {},
   "outputs": [],
   "source": [
    "#### Swapping Photo Frame"
   ]
  },
  {
   "cell_type": "code",
   "execution_count": 46,
   "id": "267d249f",
   "metadata": {},
   "outputs": [],
   "source": [
    "test_image_1[33:413,104:670]=resized_image_2"
   ]
  },
  {
   "cell_type": "code",
   "execution_count": 47,
   "id": "a4625a66",
   "metadata": {},
   "outputs": [],
   "source": [
    "#### Displaying updated Image 1"
   ]
  },
  {
   "cell_type": "code",
   "execution_count": 48,
   "id": "cbe34299",
   "metadata": {},
   "outputs": [],
   "source": [
    "cv2.imshow(\"updated_image_1\",test_image_1)\n",
    "cv2.waitKey()\n",
    "cv2.destroyAllWindows()"
   ]
  },
  {
   "cell_type": "code",
   "execution_count": 49,
   "id": "80a88d27",
   "metadata": {},
   "outputs": [],
   "source": [
    "#### Swapping Photo Frame"
   ]
  },
  {
   "cell_type": "code",
   "execution_count": 50,
   "id": "d337d791",
   "metadata": {},
   "outputs": [],
   "source": [
    "test_image_2[70:379,74:723]=resized_image_1"
   ]
  },
  {
   "cell_type": "code",
   "execution_count": 51,
   "id": "37e0d593",
   "metadata": {},
   "outputs": [],
   "source": [
    "#### Displaying Updated Image 2"
   ]
  },
  {
   "cell_type": "code",
   "execution_count": 53,
   "id": "90c42344",
   "metadata": {},
   "outputs": [],
   "source": [
    "cv2.imshow(\"updated_image_2\",test_image_2)\n",
    "cv2.waitKey()\n",
    "cv2.destroyAllWindows()"
   ]
  },
  {
   "cell_type": "markdown",
   "id": "36573b92",
   "metadata": {},
   "source": [
    "#### Saving updated photos"
   ]
  },
  {
   "cell_type": "code",
   "execution_count": 54,
   "id": "57b91d53",
   "metadata": {},
   "outputs": [
    {
     "data": {
      "text/plain": [
       "False"
      ]
     },
     "execution_count": 54,
     "metadata": {},
     "output_type": "execute_result"
    }
   ],
   "source": [
    "cv2.imwrite(\"updated_images/updated_image_1.jpg\",test_image_1)\n",
    "cv2.imwrite(\"updated_images/updated_image_2.jpg\",test_image_2)"
   ]
  },
  {
   "cell_type": "code",
   "execution_count": null,
   "id": "920d8802",
   "metadata": {},
   "outputs": [],
   "source": []
  },
  {
   "cell_type": "code",
   "execution_count": null,
   "id": "e58a2d1e",
   "metadata": {},
   "outputs": [],
   "source": []
  },
  {
   "cell_type": "code",
   "execution_count": null,
   "id": "5a03289e",
   "metadata": {},
   "outputs": [],
   "source": []
  },
  {
   "cell_type": "code",
   "execution_count": null,
   "id": "b4300bf4",
   "metadata": {},
   "outputs": [],
   "source": []
  }
 ],
 "metadata": {
  "kernelspec": {
   "display_name": "Python 3",
   "language": "python",
   "name": "python3"
  },
  "language_info": {
   "codemirror_mode": {
    "name": "ipython",
    "version": 3
   },
   "file_extension": ".py",
   "mimetype": "text/x-python",
   "name": "python",
   "nbconvert_exporter": "python",
   "pygments_lexer": "ipython3",
   "version": "3.6.8"
  }
 },
 "nbformat": 4,
 "nbformat_minor": 5
}
