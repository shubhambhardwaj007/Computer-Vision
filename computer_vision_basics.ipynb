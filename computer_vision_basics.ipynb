{
 "cells": [
  {
   "cell_type": "code",
   "execution_count": null,
   "id": "4dc3410d",
   "metadata": {},
   "outputs": [],
   "source": [
    "import cv2"
   ]
  },
  {
   "cell_type": "code",
   "execution_count": null,
   "id": "ffc1ed2f",
   "metadata": {},
   "outputs": [],
   "source": [
    "photo=cv2.imread(\"test_image_900X900.jpg\")"
   ]
  },
  {
   "cell_type": "code",
   "execution_count": null,
   "id": "d7c35d50",
   "metadata": {},
   "outputs": [],
   "source": [
    "cv2.imshow(\"hi\",photo)\n",
    "cv2.waitKey()\n",
    "cv2.destroyAllWindows()"
   ]
  },
  {
   "cell_type": "code",
   "execution_count": null,
   "id": "f049c76f",
   "metadata": {},
   "outputs": [],
   "source": [
    "photo.shape"
   ]
  },
  {
   "cell_type": "code",
   "execution_count": null,
   "id": "addcc8d0",
   "metadata": {},
   "outputs": [],
   "source": [
    "photo"
   ]
  },
  {
   "cell_type": "code",
   "execution_count": null,
   "id": "86b41a13",
   "metadata": {},
   "outputs": [],
   "source": [
    "photo[0][0]"
   ]
  },
  {
   "cell_type": "code",
   "execution_count": null,
   "id": "266ceee6",
   "metadata": {},
   "outputs": [],
   "source": [
    "photo[0][0]=[0,255,0]"
   ]
  },
  {
   "cell_type": "code",
   "execution_count": null,
   "id": "10e1f2e8",
   "metadata": {},
   "outputs": [],
   "source": [
    "cv2.imshow(\"hi\",photo)\n",
    "cv2.waitKey()\n",
    "cv2.destroyAllWindows()"
   ]
  },
  {
   "cell_type": "code",
   "execution_count": null,
   "id": "83b5975e",
   "metadata": {},
   "outputs": [],
   "source": [
    "photo[10]=[0,255,0]"
   ]
  },
  {
   "cell_type": "code",
   "execution_count": null,
   "id": "d436234f",
   "metadata": {},
   "outputs": [],
   "source": [
    "cv2.imshow(\"hi\",photo)\n",
    "cv2.waitKey()\n",
    "cv2.destroyAllWindows()"
   ]
  },
  {
   "cell_type": "code",
   "execution_count": null,
   "id": "4067e051",
   "metadata": {},
   "outputs": [],
   "source": [
    "import cv2\n",
    "photo=cv2.imread(\"test_image_900X900.jpg\")\n",
    "cphoto=photo[318:361,290:450]"
   ]
  },
  {
   "cell_type": "code",
   "execution_count": null,
   "id": "84996cf8",
   "metadata": {},
   "outputs": [],
   "source": [
    "cv2.imshow(\"hi\",cphoto)\n",
    "cv2.waitKey()\n",
    "cv2.destroyAllWindows()"
   ]
  },
  {
   "cell_type": "code",
   "execution_count": null,
   "id": "4280accf",
   "metadata": {},
   "outputs": [],
   "source": [
    "#Capture Photograph\n",
    "def capture_image():\n",
    "    cap = cv2.VideoCapture(0)\n",
    "    ret,captured_photo=cap.read()\n",
    "    cap.release()"
   ]
  },
  {
   "cell_type": "code",
   "execution_count": null,
   "id": "52d42c55",
   "metadata": {},
   "outputs": [],
   "source": [
    "#Show Captured Photograph\n",
    "def show_capture_image():\n",
    "    cv2.imshow(\"hi\",captured_photo)\n",
    "    cv2.waitKey()\n",
    "    cv2.destroyAllWindows()"
   ]
  },
  {
   "cell_type": "code",
   "execution_count": null,
   "id": "4d2b5770",
   "metadata": {},
   "outputs": [],
   "source": [
    "import cv2\n",
    "cap = cv2.VideoCapture(0)\n",
    "while True:\n",
    "    ret,captured_photo=cap.read()\n",
    "    crop_photo=cv2.cvtColor(captured_photo,cv2.COLOR_BGR2GRAY)\n",
    "    cv2.imshow(\"hi\",crop_photo)\n",
    "    if cv2.waitKey(1) == 13:\n",
    "        break\n",
    "cv2.destroyAllWindows()\n",
    "cap.release"
   ]
  },
  {
   "cell_type": "code",
   "execution_count": null,
   "id": "a7e7f823",
   "metadata": {},
   "outputs": [],
   "source": [
    "photo[82:341,238:500]"
   ]
  },
  {
   "cell_type": "code",
   "execution_count": null,
   "id": "7db3415c",
   "metadata": {},
   "outputs": [],
   "source": [
    "cap.release"
   ]
  },
  {
   "cell_type": "code",
   "execution_count": null,
   "id": "741fd757",
   "metadata": {},
   "outputs": [],
   "source": [
    "\n",
    "\n",
    "\n"
   ]
  }
 ],
 "metadata": {
  "kernelspec": {
   "display_name": "Python 3",
   "language": "python",
   "name": "python3"
  },
  "language_info": {
   "codemirror_mode": {
    "name": "ipython",
    "version": 3
   },
   "file_extension": ".py",
   "mimetype": "text/x-python",
   "name": "python",
   "nbconvert_exporter": "python",
   "pygments_lexer": "ipython3",
   "version": "3.6.8"
  }
 },
 "nbformat": 4,
 "nbformat_minor": 5
}
