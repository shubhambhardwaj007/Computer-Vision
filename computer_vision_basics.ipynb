{
 "cells": [
  {
   "cell_type": "code",
   "execution_count": 2,
   "id": "4dc3410d",
   "metadata": {},
   "outputs": [],
   "source": [
    "import cv2\n",
    "import numpy\n",
    "%config Completer.use_jedi = False"
   ]
  },
  {
   "cell_type": "code",
   "execution_count": 16,
   "id": "ffc1ed2f",
   "metadata": {},
   "outputs": [],
   "source": [
    "#Display Images\n",
    "def display_image(image_location,image_title):\n",
    "    if str(type(image_location))==\"<class 'str'>\":\n",
    "        display_image.local_image=cv2.imread(image_location)\n",
    "        cv2.imshow(str(image_title),display_image.local_image)\n",
    "        if cv2.waitKey() == 13:\n",
    "            cv2.destroyAllWindows()\n",
    "    elif str(type(image_location))==\"<class 'numpy.ndarray'>\":\n",
    "        cv2.imshow(image_title,image_location)\n",
    "        if cv2.waitKey() == 13:\n",
    "            cv2.destroyAllWindows()\n",
    "    else: \n",
    "        print(\"Provide suitable option for Image Type\")"
   ]
  },
  {
   "cell_type": "code",
   "execution_count": 7,
   "id": "fcfeba05",
   "metadata": {},
   "outputs": [],
   "source": [
    "#Capture Photograph\n",
    "def capture_image(camera_index):\n",
    "    capture_image.capture = cv2.VideoCapture(camera_index)\n",
    "    return_value,capture_image.captured_image=capture_image.capture.read()\n",
    "    capture_image.capture.release()\n",
    "    print(\"Image Clicked status:\",return_value)\n",
    "    return capture_image.captured_image"
   ]
  },
  {
   "cell_type": "code",
   "execution_count": 21,
   "id": "cf1b88c7",
   "metadata": {},
   "outputs": [],
   "source": [
    "def greyscale_convert(image_location):\n",
    "    if str(type(image_location))==\"<class 'str'>\":\n",
    "        local_image=cv2.imread(image_location)\n",
    "        greyscale_convert.local_image=cv2.cvtColor(local_image,cv2.COLOR_BGR2GRAY)\n",
    "        return greyscale_convert.local_image\n",
    "        cv2.imshow(str(image_title),greyscale_convert.local_image)\n",
    "        if cv2.waitKey() == 13:\n",
    "            cv2.destroyAllWindows()\n",
    "    elif str(type(image_location))==\"<class 'numpy.ndarray'>\":\n",
    "        greyscale_convert.captured_image=cv2.cvtColor(image_location,cv2.COLOR_BGR2GRAY)\n",
    "        return greyscale_convert.captured_image\n",
    "        cv2.imshow(str(image_title),greyscale_convert.captured_image)\n",
    "        if cv2.waitKey() == 13:\n",
    "            cv2.destroyAllWindows()\n",
    "    else:\n",
    "        print(\"Provide suitable option for Image Type\")"
   ]
  },
  {
   "cell_type": "code",
   "execution_count": null,
   "id": "768e175b",
   "metadata": {},
   "outputs": [],
   "source": [
    "capture_image(0)"
   ]
  },
  {
   "cell_type": "code",
   "execution_count": null,
   "id": "f2177ada",
   "metadata": {},
   "outputs": [],
   "source": [
    "display_image(\"test_images/test_image_900X900.jpg\",\"Local_Image\",\"local\")"
   ]
  },
  {
   "cell_type": "code",
   "execution_count": null,
   "id": "98b5e283",
   "metadata": {},
   "outputs": [],
   "source": [
    "display_image(capture_image(0),\"Captured_Image\",\"captured\")"
   ]
  },
  {
   "cell_type": "code",
   "execution_count": null,
   "id": "6434325c",
   "metadata": {},
   "outputs": [],
   "source": [
    "capture_image(0).shape"
   ]
  },
  {
   "cell_type": "code",
   "execution_count": null,
   "id": "d7c35d50",
   "metadata": {},
   "outputs": [],
   "source": [
    "#Representing complete Image\n",
    "capture_image(0)"
   ]
  },
  {
   "cell_type": "code",
   "execution_count": null,
   "id": "f0a19749",
   "metadata": {},
   "outputs": [],
   "source": [
    "#imwrite() fn to write images to local storage\n",
    "#First capture image and then save to local hdd\n",
    "cv2.imwrite(\"test_images/written_image.jpg\",capture_image(0))"
   ]
  },
  {
   "cell_type": "code",
   "execution_count": null,
   "id": "a32119af",
   "metadata": {},
   "outputs": [],
   "source": [
    "#Shows the pixels list for 1st row\n",
    "#Each element shows particular pixel color RGB Combination\n",
    "capture_image.captured_image[0]"
   ]
  },
  {
   "cell_type": "code",
   "execution_count": null,
   "id": "9499b5dd",
   "metadata": {},
   "outputs": [],
   "source": [
    "#Shows first pixel from the image\n",
    "capture_image.captured_image[0][0]"
   ]
  },
  {
   "cell_type": "code",
   "execution_count": null,
   "id": "3021f743",
   "metadata": {},
   "outputs": [],
   "source": [
    "#Red color gradient of first pixel\n",
    "capture_image.captured_image[0][0][0]"
   ]
  },
  {
   "cell_type": "code",
   "execution_count": null,
   "id": "e0146ed8",
   "metadata": {},
   "outputs": [],
   "source": [
    "#Red color gradient of all pixels in this image\n",
    "capture_image.captured_image[:,:,0]"
   ]
  },
  {
   "cell_type": "code",
   "execution_count": null,
   "id": "3221ed94",
   "metadata": {},
   "outputs": [],
   "source": [
    "#1) selects row from pixels 10 to 200\n",
    "#2) selects column 150 for row pixels 10 to 200\n",
    "#3) fill color [255,0,0](CV2 FOLLOW BGR FORMAT NOT RGB SO IT DISPLAYS BLUE COLOR)\n",
    "capture_image.captured_image[10:200,150]=[255,0,0]\n",
    "display_image(capture_image.captured_image,\"edited pic\",\"captured\")"
   ]
  },
  {
   "cell_type": "code",
   "execution_count": 22,
   "id": "78f7f765",
   "metadata": {},
   "outputs": [],
   "source": [
    "def crop_image(image_location,y1,y2,x1,x2):\n",
    "    if str(type(image_location))==\"<class 'numpy.ndarray'>\":\n",
    "        local_image=cv2.imread(image_location)\n",
    "        crop_image.cropped_image=local_image[int(y1):int(y2),int(x1):int(x2)]\n",
    "        return crop_image.cropped_image\n",
    "    elif str(type(image_location))==\"<class 'numpy.ndarray'>\":\n",
    "        crop_image.cropped_image=image_location[int(y1):int(y2),int(x1):int(x2)]\n",
    "        return crop_image.cropped_image\n",
    "    else:\n",
    "        print(\"Provide suitable option for Image Type\")"
   ]
  },
  {
   "cell_type": "code",
   "execution_count": null,
   "id": "10446564",
   "metadata": {},
   "outputs": [],
   "source": [
    "crop_image(capture_image(0),50,200,10,200,\"captured\")\n",
    "display_image(crop_image.cropped_image,\"cropped image\",\"captured\")"
   ]
  },
  {
   "cell_type": "code",
   "execution_count": null,
   "id": "858fc965",
   "metadata": {},
   "outputs": [],
   "source": [
    "display_image(crop_image(capture_image(0),50,200,10,200,\"captured\"),\"cropped image\",\"captured\")"
   ]
  },
  {
   "cell_type": "code",
   "execution_count": null,
   "id": "95780582",
   "metadata": {},
   "outputs": [],
   "source": [
    "display_image(greyscale_convert(capture_image(0),\"captured\"),\"greyscale image\",\"captured\")"
   ]
  },
  {
   "cell_type": "code",
   "execution_count": 24,
   "id": "771b9e96",
   "metadata": {},
   "outputs": [],
   "source": [
    "import cv2\n",
    "def capture_show_video(camera_index,video_title):\n",
    "    capture_show_video.capture=cv2.VideoCapture(camera_index)\n",
    "    print(\"Video started\")\n",
    "    while True:\n",
    "        return_value,capture_show_video.captured_video=capture_show_video.capture.read()\n",
    "        greyscale_image=cv2.cvtColor(capture_show_video.captured_video,cv2.COLOR_BGR2GRAY)\n",
    "        cv2.imshow(video_title,greyscale_image)\n",
    "        if cv2.waitKey(1)==13:\n",
    "            break\n",
    "    cv2.destroyAllWindows()\n",
    "    capture_show_video.capture.release()\n",
    "    print(\"Video stopped\")"
   ]
  },
  {
   "cell_type": "code",
   "execution_count": 25,
   "id": "bc01ea49",
   "metadata": {},
   "outputs": [
    {
     "name": "stdout",
     "output_type": "stream",
     "text": [
      "Video started\n",
      "Video stopped\n"
     ]
    }
   ],
   "source": [
    "capture_show_video(-1,\"video recording\")"
   ]
  },
  {
   "cell_type": "code",
   "execution_count": 17,
   "id": "705d37b5",
   "metadata": {},
   "outputs": [],
   "source": [
    "display_image(\"test_images/test_image_900X900.jpg\",\"hello\")"
   ]
  },
  {
   "cell_type": "code",
   "execution_count": 18,
   "id": "a8fb9a7d",
   "metadata": {},
   "outputs": [
    {
     "name": "stdout",
     "output_type": "stream",
     "text": [
      "Image Clicked status: True\n"
     ]
    },
    {
     "data": {
      "text/plain": [
       "array([[[172, 177, 156],\n",
       "        [172, 177, 156],\n",
       "        [172, 177, 156],\n",
       "        ...,\n",
       "        [ 43,  46,  44],\n",
       "        [ 42,  47,  45],\n",
       "        [ 43,  48,  46]],\n",
       "\n",
       "       [[172, 177, 156],\n",
       "        [172, 177, 156],\n",
       "        [172, 177, 156],\n",
       "        ...,\n",
       "        [ 43,  46,  44],\n",
       "        [ 44,  47,  45],\n",
       "        [ 45,  48,  46]],\n",
       "\n",
       "       [[172, 177, 156],\n",
       "        [172, 177, 156],\n",
       "        [172, 177, 156],\n",
       "        ...,\n",
       "        [ 45,  46,  44],\n",
       "        [ 44,  47,  45],\n",
       "        [ 45,  48,  46]],\n",
       "\n",
       "       ...,\n",
       "\n",
       "       [[171, 165, 142],\n",
       "        [171, 165, 142],\n",
       "        [170, 164, 141],\n",
       "        ...,\n",
       "        [ 36,  46,  56],\n",
       "        [ 36,  46,  56],\n",
       "        [ 36,  46,  56]],\n",
       "\n",
       "       [[170, 164, 141],\n",
       "        [170, 164, 141],\n",
       "        [170, 164, 141],\n",
       "        ...,\n",
       "        [ 36,  46,  56],\n",
       "        [ 36,  46,  56],\n",
       "        [ 36,  46,  56]],\n",
       "\n",
       "       [[170, 164, 141],\n",
       "        [170, 164, 141],\n",
       "        [170, 164, 141],\n",
       "        ...,\n",
       "        [ 36,  46,  56],\n",
       "        [ 36,  46,  56],\n",
       "        [ 36,  46,  56]]], dtype=uint8)"
      ]
     },
     "execution_count": 18,
     "metadata": {},
     "output_type": "execute_result"
    }
   ],
   "source": [
    "capture_image(-1)"
   ]
  },
  {
   "cell_type": "code",
   "execution_count": 19,
   "id": "300eb3aa",
   "metadata": {},
   "outputs": [],
   "source": [
    "display_image(capture_image.captured_image,\"hello\")"
   ]
  },
  {
   "cell_type": "code",
   "execution_count": null,
   "id": "d486976e",
   "metadata": {},
   "outputs": [],
   "source": []
  }
 ],
 "metadata": {
  "kernelspec": {
   "display_name": "Python 3",
   "language": "python",
   "name": "python3"
  },
  "language_info": {
   "codemirror_mode": {
    "name": "ipython",
    "version": 3
   },
   "file_extension": ".py",
   "mimetype": "text/x-python",
   "name": "python",
   "nbconvert_exporter": "python",
   "pygments_lexer": "ipython3",
   "version": "3.6.8"
  }
 },
 "nbformat": 4,
 "nbformat_minor": 5
}
