{
 "cells": [
  {
   "cell_type": "code",
   "execution_count": 10,
   "id": "4dc3410d",
   "metadata": {},
   "outputs": [],
   "source": [
    "import cv2"
   ]
  },
  {
   "cell_type": "code",
   "execution_count": 11,
   "id": "ffc1ed2f",
   "metadata": {},
   "outputs": [],
   "source": [
    "photo=cv2.imread(\"test_image_900X900.jpg\")"
   ]
  },
  {
   "cell_type": "code",
   "execution_count": 12,
   "id": "d7c35d50",
   "metadata": {},
   "outputs": [],
   "source": [
    "cv2.imshow(\"hi\",photo)\n",
    "cv2.waitKey()\n",
    "cv2.destroyAllWindows()"
   ]
  },
  {
   "cell_type": "code",
   "execution_count": 13,
   "id": "f049c76f",
   "metadata": {},
   "outputs": [
    {
     "data": {
      "text/plain": [
       "(900, 900, 3)"
      ]
     },
     "execution_count": 13,
     "metadata": {},
     "output_type": "execute_result"
    }
   ],
   "source": [
    "photo.shape"
   ]
  },
  {
   "cell_type": "code",
   "execution_count": 14,
   "id": "addcc8d0",
   "metadata": {},
   "outputs": [
    {
     "data": {
      "text/plain": [
       "array([[[122, 128, 133],\n",
       "        [123, 129, 134],\n",
       "        [124, 130, 135],\n",
       "        ...,\n",
       "        [135, 144, 158],\n",
       "        [135, 144, 158],\n",
       "        [135, 144, 158]],\n",
       "\n",
       "       [[124, 130, 135],\n",
       "        [124, 130, 135],\n",
       "        [125, 131, 136],\n",
       "        ...,\n",
       "        [136, 145, 159],\n",
       "        [136, 145, 159],\n",
       "        [136, 145, 159]],\n",
       "\n",
       "       [[126, 132, 137],\n",
       "        [127, 133, 138],\n",
       "        [128, 134, 139],\n",
       "        ...,\n",
       "        [136, 145, 159],\n",
       "        [136, 145, 159],\n",
       "        [136, 145, 159]],\n",
       "\n",
       "       ...,\n",
       "\n",
       "       [[194, 180, 186],\n",
       "        [195, 181, 187],\n",
       "        [196, 182, 188],\n",
       "        ...,\n",
       "        [149, 143, 160],\n",
       "        [150, 144, 161],\n",
       "        [152, 146, 163]],\n",
       "\n",
       "       [[195, 181, 187],\n",
       "        [196, 182, 188],\n",
       "        [197, 183, 189],\n",
       "        ...,\n",
       "        [148, 142, 159],\n",
       "        [150, 144, 161],\n",
       "        [151, 145, 162]],\n",
       "\n",
       "       [[196, 182, 188],\n",
       "        [197, 183, 189],\n",
       "        [198, 184, 190],\n",
       "        ...,\n",
       "        [148, 142, 159],\n",
       "        [149, 143, 160],\n",
       "        [150, 144, 161]]], dtype=uint8)"
      ]
     },
     "execution_count": 14,
     "metadata": {},
     "output_type": "execute_result"
    }
   ],
   "source": [
    "photo"
   ]
  },
  {
   "cell_type": "code",
   "execution_count": 15,
   "id": "86b41a13",
   "metadata": {},
   "outputs": [
    {
     "data": {
      "text/plain": [
       "array([122, 128, 133], dtype=uint8)"
      ]
     },
     "execution_count": 15,
     "metadata": {},
     "output_type": "execute_result"
    }
   ],
   "source": [
    "photo[0][0]"
   ]
  },
  {
   "cell_type": "code",
   "execution_count": 16,
   "id": "266ceee6",
   "metadata": {},
   "outputs": [],
   "source": [
    "photo[0][0]=[0,255,0]"
   ]
  },
  {
   "cell_type": "code",
   "execution_count": 17,
   "id": "10e1f2e8",
   "metadata": {},
   "outputs": [],
   "source": [
    "cv2.imshow(\"hi\",photo)\n",
    "cv2.waitKey()\n",
    "cv2.destroyAllWindows()"
   ]
  },
  {
   "cell_type": "code",
   "execution_count": 18,
   "id": "83b5975e",
   "metadata": {},
   "outputs": [],
   "source": [
    "photo[10]=[0,255,0]"
   ]
  },
  {
   "cell_type": "code",
   "execution_count": 19,
   "id": "d436234f",
   "metadata": {},
   "outputs": [],
   "source": [
    "cv2.imshow(\"hi\",photo)\n",
    "cv2.waitKey()\n",
    "cv2.destroyAllWindows()"
   ]
  },
  {
   "cell_type": "code",
   "execution_count": 20,
   "id": "4067e051",
   "metadata": {},
   "outputs": [],
   "source": [
    "import cv2\n",
    "photo=cv2.imread(\"test_image_900X900.jpg\")\n",
    "cphoto=photo[318:361,290:450]"
   ]
  },
  {
   "cell_type": "code",
   "execution_count": 21,
   "id": "84996cf8",
   "metadata": {},
   "outputs": [],
   "source": [
    "cv2.imshow(\"hi\",cphoto)\n",
    "cv2.waitKey()\n",
    "cv2.destroyAllWindows()"
   ]
  },
  {
   "cell_type": "code",
   "execution_count": 22,
   "id": "4280accf",
   "metadata": {},
   "outputs": [],
   "source": [
    "#Capture Photograph\n",
    "def capture_image():\n",
    "    cap = cv2.VideoCapture(0)\n",
    "    ret,captured_photo=cap.read()\n",
    "    cap.release()"
   ]
  },
  {
   "cell_type": "code",
   "execution_count": 23,
   "id": "52d42c55",
   "metadata": {},
   "outputs": [],
   "source": [
    "#Show Captured Photograph\n",
    "def show_capture_image():\n",
    "    cv2.imshow(\"hi\",captured_photo)\n",
    "    cv2.waitKey()\n",
    "    cv2.destroyAllWindows()"
   ]
  },
  {
   "cell_type": "code",
   "execution_count": 28,
   "id": "4d2b5770",
   "metadata": {},
   "outputs": [],
   "source": [
    "cap = cv2.VideoCapture(0)\n",
    "ret,captured_photo=cap.read()\n",
    "cap.release()"
   ]
  },
  {
   "cell_type": "code",
   "execution_count": 30,
   "id": "a7e7f823",
   "metadata": {},
   "outputs": [
    {
     "ename": "error",
     "evalue": "OpenCV(4.5.2) /tmp/pip-req-build-x6vvo8fj/opencv/modules/highgui/src/window.cpp:404: error: (-215:Assertion failed) size.width>0 && size.height>0 in function 'imshow'\n",
     "output_type": "error",
     "traceback": [
      "\u001b[0;31m---------------------------------------------------------------------------\u001b[0m",
      "\u001b[0;31merror\u001b[0m                                     Traceback (most recent call last)",
      "\u001b[0;32m<ipython-input-30-951d7a375882>\u001b[0m in \u001b[0;36m<module>\u001b[0;34m\u001b[0m\n\u001b[0;32m----> 1\u001b[0;31m \u001b[0mcv2\u001b[0m\u001b[0;34m.\u001b[0m\u001b[0mimshow\u001b[0m\u001b[0;34m(\u001b[0m\u001b[0;34m\"hi\"\u001b[0m\u001b[0;34m,\u001b[0m\u001b[0mcaptured_photo\u001b[0m\u001b[0;34m)\u001b[0m\u001b[0;34m\u001b[0m\u001b[0;34m\u001b[0m\u001b[0m\n\u001b[0m\u001b[1;32m      2\u001b[0m \u001b[0mcv2\u001b[0m\u001b[0;34m.\u001b[0m\u001b[0mwaitKey\u001b[0m\u001b[0;34m(\u001b[0m\u001b[0;34m)\u001b[0m\u001b[0;34m\u001b[0m\u001b[0;34m\u001b[0m\u001b[0m\n\u001b[1;32m      3\u001b[0m \u001b[0mcv2\u001b[0m\u001b[0;34m.\u001b[0m\u001b[0mdestroyAllWindows\u001b[0m\u001b[0;34m(\u001b[0m\u001b[0;34m)\u001b[0m\u001b[0;34m\u001b[0m\u001b[0;34m\u001b[0m\u001b[0m\n",
      "\u001b[0;31merror\u001b[0m: OpenCV(4.5.2) /tmp/pip-req-build-x6vvo8fj/opencv/modules/highgui/src/window.cpp:404: error: (-215:Assertion failed) size.width>0 && size.height>0 in function 'imshow'\n"
     ]
    }
   ],
   "source": [
    "cv2.imshow(\"hi\",captured_photo)\n",
    "cv2.waitKey()\n",
    "cv2.destroyAllWindows()"
   ]
  },
  {
   "cell_type": "code",
   "execution_count": null,
   "id": "7db3415c",
   "metadata": {},
   "outputs": [],
   "source": []
  }
 ],
 "metadata": {
  "kernelspec": {
   "display_name": "Python 3",
   "language": "python",
   "name": "python3"
  },
  "language_info": {
   "codemirror_mode": {
    "name": "ipython",
    "version": 3
   },
   "file_extension": ".py",
   "mimetype": "text/x-python",
   "name": "python",
   "nbconvert_exporter": "python",
   "pygments_lexer": "ipython3",
   "version": "3.6.8"
  }
 },
 "nbformat": 4,
 "nbformat_minor": 5
}
