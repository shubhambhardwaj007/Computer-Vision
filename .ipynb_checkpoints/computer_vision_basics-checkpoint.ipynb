{
 "cells": [
  {
   "cell_type": "code",
   "execution_count": 24,
   "id": "4dc3410d",
   "metadata": {},
   "outputs": [],
   "source": [
    "import cv2"
   ]
  },
  {
   "cell_type": "code",
   "execution_count": 25,
   "id": "ffc1ed2f",
   "metadata": {},
   "outputs": [],
   "source": [
    "def show_photo(local_photo):\n",
    "    photo=cv2.imread(local_photo)\n",
    "    cv2.imshow(\"hi\",photo)\n",
    "    cv2.waitKey()\n",
    "    cv2.destroyAllWindows()"
   ]
  },
  {
   "cell_type": "code",
   "execution_count": 26,
   "id": "d7c35d50",
   "metadata": {},
   "outputs": [],
   "source": [
    "show_photo(\"test_image_900X900.jpg\")"
   ]
  },
  {
   "cell_type": "code",
   "execution_count": 35,
   "id": "f0a19749",
   "metadata": {},
   "outputs": [],
   "source": [
    "#Capture Photograph\n",
    "def capture_image():\n",
    "    cap = cv2.VideoCapture(0)\n",
    "    ret,capture_image.captured_photo=cap.read()\n",
    "    cap.release()\n",
    "    print(\"Image Clicked status:\",ret)"
   ]
  },
  {
   "cell_type": "code",
   "execution_count": 36,
   "id": "a32119af",
   "metadata": {},
   "outputs": [
    {
     "name": "stdout",
     "output_type": "stream",
     "text": [
      "Image Clicked status: True\n"
     ]
    }
   ],
   "source": [
    "capture_image()"
   ]
  },
  {
   "cell_type": "code",
   "execution_count": 37,
   "id": "9499b5dd",
   "metadata": {},
   "outputs": [],
   "source": [
    "def show_capture_image(captured_photo):\n",
    "    cv2.imshow(\"hi\",captured_photo)\n",
    "    cv2.waitKey()\n",
    "    cv2.destroyAllWindows()"
   ]
  },
  {
   "cell_type": "code",
   "execution_count": 38,
   "id": "da8d6789",
   "metadata": {},
   "outputs": [],
   "source": [
    "show_capture_image(capture_image.captured_photo)"
   ]
  },
  {
   "cell_type": "code",
   "execution_count": 32,
   "id": "f049c76f",
   "metadata": {},
   "outputs": [
    {
     "data": {
      "text/plain": [
       "(480, 640, 3)"
      ]
     },
     "execution_count": 32,
     "metadata": {},
     "output_type": "execute_result"
    }
   ],
   "source": [
    "capture_image.captured_photo.shape"
   ]
  },
  {
   "cell_type": "code",
   "execution_count": 34,
   "id": "addcc8d0",
   "metadata": {},
   "outputs": [
    {
     "data": {
      "text/plain": [
       "array([[[ 68,  88, 159],\n",
       "        [ 64,  86, 157],\n",
       "        [ 58,  82, 154],\n",
       "        ...,\n",
       "        [209, 199, 182],\n",
       "        [209, 199, 182],\n",
       "        [208, 198, 181]],\n",
       "\n",
       "       [[ 65,  87, 158],\n",
       "        [ 61,  86, 156],\n",
       "        [ 57,  83, 153],\n",
       "        ...,\n",
       "        [209, 199, 182],\n",
       "        [209, 199, 182],\n",
       "        [208, 198, 181]],\n",
       "\n",
       "       [[ 61,  87, 157],\n",
       "        [ 58,  87, 156],\n",
       "        [ 53,  84, 153],\n",
       "        ...,\n",
       "        [207, 199, 182],\n",
       "        [207, 199, 182],\n",
       "        [206, 198, 181]],\n",
       "\n",
       "       ...,\n",
       "\n",
       "       [[ 84,  88, 107],\n",
       "        [ 84,  88, 107],\n",
       "        [ 85,  89, 108],\n",
       "        ...,\n",
       "        [189, 185, 166],\n",
       "        [188, 184, 165],\n",
       "        [187, 183, 164]],\n",
       "\n",
       "       [[ 86,  90, 109],\n",
       "        [ 86,  90, 109],\n",
       "        [ 86,  90, 109],\n",
       "        ...,\n",
       "        [190, 186, 167],\n",
       "        [189, 185, 166],\n",
       "        [189, 185, 166]],\n",
       "\n",
       "       [[ 87,  91, 110],\n",
       "        [ 87,  91, 110],\n",
       "        [ 87,  91, 110],\n",
       "        ...,\n",
       "        [190, 186, 167],\n",
       "        [191, 187, 169],\n",
       "        [191, 187, 169]]], dtype=uint8)"
      ]
     },
     "execution_count": 34,
     "metadata": {},
     "output_type": "execute_result"
    }
   ],
   "source": [
    "capture_image.captured_photo"
   ]
  },
  {
   "cell_type": "code",
   "execution_count": 40,
   "id": "86b41a13",
   "metadata": {},
   "outputs": [
    {
     "data": {
      "text/plain": [
       "array([ 50,  96, 154], dtype=uint8)"
      ]
     },
     "execution_count": 40,
     "metadata": {},
     "output_type": "execute_result"
    }
   ],
   "source": [
    "capture_image.captured_photo[0][0]"
   ]
  },
  {
   "cell_type": "code",
   "execution_count": 41,
   "id": "266ceee6",
   "metadata": {},
   "outputs": [],
   "source": [
    "capture_image.captured_photo[0][0]=[0,255,0]"
   ]
  },
  {
   "cell_type": "code",
   "execution_count": 42,
   "id": "10e1f2e8",
   "metadata": {},
   "outputs": [],
   "source": [
    "show_capture_image(capture_image.captured_photo)"
   ]
  },
  {
   "cell_type": "code",
   "execution_count": 44,
   "id": "83b5975e",
   "metadata": {},
   "outputs": [],
   "source": [
    "capture_image.captured_photo[10]=[0,255,0]"
   ]
  },
  {
   "cell_type": "code",
   "execution_count": 45,
   "id": "d436234f",
   "metadata": {},
   "outputs": [],
   "source": [
    "show_capture_image(capture_image.captured_photo)"
   ]
  },
  {
   "cell_type": "code",
   "execution_count": 46,
   "id": "4067e051",
   "metadata": {},
   "outputs": [
    {
     "ename": "SyntaxError",
     "evalue": "invalid syntax (<ipython-input-46-d50459497f68>, line 1)",
     "output_type": "error",
     "traceback": [
      "\u001b[0;36m  File \u001b[0;32m\"<ipython-input-46-d50459497f68>\"\u001b[0;36m, line \u001b[0;32m1\u001b[0m\n\u001b[0;31m    def show_cropped_photo(captured_image,y_cropped,x_cropped)\u001b[0m\n\u001b[0m                                                              ^\u001b[0m\n\u001b[0;31mSyntaxError\u001b[0m\u001b[0;31m:\u001b[0m invalid syntax\n"
     ]
    }
   ],
   "source": [
    "def show_cropped_photo(captured_image,y_cropped,x_cropped)"
   ]
  },
  {
   "cell_type": "code",
   "execution_count": null,
   "id": "84996cf8",
   "metadata": {},
   "outputs": [],
   "source": [
    "import cv2\n",
    "photo=cv2.imread(\"test_image_900X900.jpg\")\n",
    "cphoto=photo[318:361,290:450]\n",
    "cv2.imshow(\"hi\",cphoto)\n",
    "cv2.waitKey()\n",
    "cv2.destroyAllWindows()"
   ]
  },
  {
   "cell_type": "code",
   "execution_count": null,
   "id": "4280accf",
   "metadata": {},
   "outputs": [],
   "source": []
  },
  {
   "cell_type": "code",
   "execution_count": null,
   "id": "52d42c55",
   "metadata": {},
   "outputs": [],
   "source": [
    "#Show Captured Photograph\n",
    "def show_capture_image():\n",
    "    cv2.imshow(\"hi\",captured_photo)\n",
    "    cv2.waitKey()\n",
    "    cv2.destroyAllWindows()"
   ]
  },
  {
   "cell_type": "code",
   "execution_count": null,
   "id": "4d2b5770",
   "metadata": {},
   "outputs": [],
   "source": [
    "import cv2\n",
    "cap = cv2.VideoCapture(0)\n",
    "while True:\n",
    "    ret,captured_photo=cap.read()\n",
    "    crop_photo=cv2.cvtColor(captured_photo,cv2.COLOR_BGR2GRAY)\n",
    "    cv2.imshow(\"hi\",crop_photo)\n",
    "    if cv2.waitKey(1) == 13:\n",
    "        break\n",
    "cv2.destroyAllWindows()\n",
    "cap.release"
   ]
  },
  {
   "cell_type": "code",
   "execution_count": null,
   "id": "a7e7f823",
   "metadata": {},
   "outputs": [],
   "source": [
    "photo[82:341,238:500]"
   ]
  },
  {
   "cell_type": "code",
   "execution_count": null,
   "id": "7db3415c",
   "metadata": {},
   "outputs": [],
   "source": [
    "cap.release"
   ]
  },
  {
   "cell_type": "code",
   "execution_count": 10,
   "id": "741fd757",
   "metadata": {},
   "outputs": [],
   "source": [
    "%config Completer.use_jedi = False\n",
    "\n",
    "\n"
   ]
  },
  {
   "cell_type": "code",
   "execution_count": null,
   "id": "32fd812c",
   "metadata": {},
   "outputs": [],
   "source": []
  }
 ],
 "metadata": {
  "kernelspec": {
   "display_name": "Python 3",
   "language": "python",
   "name": "python3"
  },
  "language_info": {
   "codemirror_mode": {
    "name": "ipython",
    "version": 3
   },
   "file_extension": ".py",
   "mimetype": "text/x-python",
   "name": "python",
   "nbconvert_exporter": "python",
   "pygments_lexer": "ipython3",
   "version": "3.6.8"
  }
 },
 "nbformat": 4,
 "nbformat_minor": 5
}
