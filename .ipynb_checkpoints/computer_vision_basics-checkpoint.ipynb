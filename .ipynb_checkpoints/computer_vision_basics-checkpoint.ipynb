{
 "cells": [
  {
   "cell_type": "code",
   "execution_count": null,
   "id": "4dc3410d",
   "metadata": {},
   "outputs": [],
   "source": [
    "import cv2\n",
    "import numpy"
   ]
  },
  {
   "cell_type": "code",
   "execution_count": null,
   "id": "ffc1ed2f",
   "metadata": {},
   "outputs": [],
   "source": [
    "def show_local_photo(local_photo):\n",
    "    show_photo.photo=cv2.imread(local_photo)\n",
    "    cv2.imshow(\"hi\",show_photo.photo)\n",
    "    cv2.waitKey()\n",
    "    cv2.destroyAllWindows()"
   ]
  },
  {
   "cell_type": "code",
   "execution_count": null,
   "id": "d7c35d50",
   "metadata": {},
   "outputs": [],
   "source": [
    "show_photo(\"test_image_900X900.jpg\")"
   ]
  },
  {
   "cell_type": "code",
   "execution_count": null,
   "id": "f0a19749",
   "metadata": {},
   "outputs": [],
   "source": [
    "#Capture Photograph\n",
    "def capture_image():\n",
    "    cap = cv2.VideoCapture(0)\n",
    "    ret,capture_image.captured_photo=cap.read()\n",
    "    cap.release()\n",
    "    print(\"Image Clicked status:\",ret)"
   ]
  },
  {
   "cell_type": "code",
   "execution_count": null,
   "id": "a32119af",
   "metadata": {},
   "outputs": [],
   "source": [
    "capture_image()"
   ]
  },
  {
   "cell_type": "code",
   "execution_count": null,
   "id": "9499b5dd",
   "metadata": {},
   "outputs": [],
   "source": [
    "def show_capture_image(captured_photo):\n",
    "    cv2.imshow(\"hi\",captured_photo)\n",
    "    cv2.waitKey()\n",
    "    cv2.destroyAllWindows()"
   ]
  },
  {
   "cell_type": "code",
   "execution_count": null,
   "id": "4fae28da",
   "metadata": {},
   "outputs": [],
   "source": [
    "def greyscale_convert(captured_image):\n",
    "    greyscale_pic=cv2.cvtColor(captured_image,cv2.COLOR_BGR2GRAY)\n",
    "    show_capture_image(greyscale_pic)"
   ]
  },
  {
   "cell_type": "code",
   "execution_count": null,
   "id": "da8d6789",
   "metadata": {},
   "outputs": [],
   "source": [
    "show_capture_image(capture_image.captured_photo)"
   ]
  },
  {
   "cell_type": "code",
   "execution_count": null,
   "id": "f049c76f",
   "metadata": {},
   "outputs": [],
   "source": [
    "capture_image.captured_photo.shape"
   ]
  },
  {
   "cell_type": "code",
   "execution_count": null,
   "id": "addcc8d0",
   "metadata": {},
   "outputs": [],
   "source": [
    "capture_image.captured_photo"
   ]
  },
  {
   "cell_type": "code",
   "execution_count": null,
   "id": "86b41a13",
   "metadata": {},
   "outputs": [],
   "source": [
    "capture_image.captured_photo[0][0]"
   ]
  },
  {
   "cell_type": "code",
   "execution_count": null,
   "id": "266ceee6",
   "metadata": {},
   "outputs": [],
   "source": [
    "capture_image.captured_photo[0][0]=[255,0,0]"
   ]
  },
  {
   "cell_type": "code",
   "execution_count": null,
   "id": "10e1f2e8",
   "metadata": {},
   "outputs": [],
   "source": [
    "show_capture_image(capture_image.captured_photo)"
   ]
  },
  {
   "cell_type": "code",
   "execution_count": null,
   "id": "83b5975e",
   "metadata": {},
   "outputs": [],
   "source": [
    "capture_image.captured_photo[10]=[0,255,0]"
   ]
  },
  {
   "cell_type": "code",
   "execution_count": null,
   "id": "d436234f",
   "metadata": {},
   "outputs": [],
   "source": [
    "show_capture_image(capture_image.captured_photo)"
   ]
  },
  {
   "cell_type": "code",
   "execution_count": null,
   "id": "4067e051",
   "metadata": {},
   "outputs": [],
   "source": [
    "#def show_cropped_photo(captured_image,y_cropped,x_cropped):\n",
    "#   cropped_photo=captured_image[int(y_cropped),int(x_cropped)]\n",
    "#   show_capture_image(cropped_photo)"
   ]
  },
  {
   "cell_type": "code",
   "execution_count": null,
   "id": "4aafa3bd",
   "metadata": {},
   "outputs": [],
   "source": [
    "cropped_photo=capture_image.captured_photo[200:400,100:200]"
   ]
  },
  {
   "cell_type": "code",
   "execution_count": null,
   "id": "8d683310",
   "metadata": {},
   "outputs": [],
   "source": [
    "cropped_photo.shape"
   ]
  },
  {
   "cell_type": "code",
   "execution_count": null,
   "id": "8ddf956d",
   "metadata": {},
   "outputs": [],
   "source": [
    "show_capture_image(cropped_photo)"
   ]
  },
  {
   "cell_type": "code",
   "execution_count": null,
   "id": "84996cf8",
   "metadata": {},
   "outputs": [],
   "source": [
    "#Eyes cropped\n",
    "show_local_photo(\"test_image_900X900.jpg\")\n",
    "cphoto=show_photo.photo[318:361,290:450]\n",
    "show_capture_image(cphoto)"
   ]
  },
  {
   "cell_type": "code",
   "execution_count": null,
   "id": "4280accf",
   "metadata": {},
   "outputs": [],
   "source": [
    "cn=numpy.ones((900,900,3))"
   ]
  },
  {
   "cell_type": "code",
   "execution_count": null,
   "id": "52d42c55",
   "metadata": {},
   "outputs": [],
   "source": [
    "cn.shape"
   ]
  },
  {
   "cell_type": "code",
   "execution_count": null,
   "id": "d004dd50",
   "metadata": {},
   "outputs": [],
   "source": [
    "show_capture_image(cn)"
   ]
  },
  {
   "cell_type": "code",
   "execution_count": null,
   "id": "105c4293",
   "metadata": {},
   "outputs": [],
   "source": [
    "cn"
   ]
  },
  {
   "cell_type": "code",
   "execution_count": null,
   "id": "e4ee2cdf",
   "metadata": {},
   "outputs": [],
   "source": [
    "'''cn=numpy.ones((900,900,3))\n",
    "cn[500][150:600]=[0,0,255]\n",
    "cn[200][150:600]=[255,0,0]\n",
    "cn[200:500, 150]=[0,255,0]\n",
    "cn[200:500, 600]=[65,25,0]\n",
    "for i in range(cn[100:200].shape[1]):\n",
    "    print(i)\n",
    "show_capture_image(cn)\n",
    "'''\n",
    "\n"
   ]
  },
  {
   "cell_type": "code",
   "execution_count": null,
   "id": "a1d4f02e",
   "metadata": {},
   "outputs": [],
   "source": [
    "cn.shape()"
   ]
  },
  {
   "cell_type": "code",
   "execution_count": null,
   "id": "11f3591c",
   "metadata": {},
   "outputs": [],
   "source": []
  },
  {
   "cell_type": "code",
   "execution_count": null,
   "id": "2b65db4d",
   "metadata": {},
   "outputs": [],
   "source": []
  },
  {
   "cell_type": "code",
   "execution_count": 4,
   "id": "4d2b5770",
   "metadata": {},
   "outputs": [],
   "source": [
    "import cv2\n",
    "cap = cv2.VideoCapture(0)\n",
    "while True:\n",
    "    ret,captured_photo=cap.read()\n",
    "    #captured_photo=cv2.cvtColor(captured_photo,cv2.COLOR_BGR2GRAY)\n",
    "    cv2.imshow(\"hi\",captured_photo)\n",
    "    if cv2.waitKey(1) == 13:\n",
    "        break\n",
    "cv2.destroyAllWindows()\n",
    "cap.release()"
   ]
  },
  {
   "cell_type": "code",
   "execution_count": null,
   "id": "a7e7f823",
   "metadata": {},
   "outputs": [],
   "source": [
    "photo[82:341,238:500]"
   ]
  },
  {
   "cell_type": "code",
   "execution_count": null,
   "id": "7db3415c",
   "metadata": {},
   "outputs": [],
   "source": [
    "cap.release"
   ]
  },
  {
   "cell_type": "code",
   "execution_count": null,
   "id": "741fd757",
   "metadata": {},
   "outputs": [],
   "source": [
    "%config Completer.use_jedi = False\n",
    "\n",
    "\n"
   ]
  },
  {
   "cell_type": "code",
   "execution_count": null,
   "id": "32fd812c",
   "metadata": {},
   "outputs": [],
   "source": [
    "cap.release"
   ]
  },
  {
   "cell_type": "code",
   "execution_count": null,
   "id": "2acc9def",
   "metadata": {},
   "outputs": [],
   "source": [
    "cap.release"
   ]
  },
  {
   "cell_type": "code",
   "execution_count": null,
   "id": "a83bfba8",
   "metadata": {},
   "outputs": [],
   "source": []
  }
 ],
 "metadata": {
  "kernelspec": {
   "display_name": "Python 3",
   "language": "python",
   "name": "python3"
  },
  "language_info": {
   "codemirror_mode": {
    "name": "ipython",
    "version": 3
   },
   "file_extension": ".py",
   "mimetype": "text/x-python",
   "name": "python",
   "nbconvert_exporter": "python",
   "pygments_lexer": "ipython3",
   "version": "3.6.8"
  }
 },
 "nbformat": 4,
 "nbformat_minor": 5
}
