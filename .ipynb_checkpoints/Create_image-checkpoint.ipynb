{
 "cells": [
  {
   "cell_type": "markdown",
   "id": "a3ba2865",
   "metadata": {},
   "source": [
    "### Importing Modules"
   ]
  },
  {
   "cell_type": "code",
   "execution_count": 5,
   "id": "4f6103eb",
   "metadata": {},
   "outputs": [],
   "source": [
    "import cv2\n",
    "import numpy"
   ]
  },
  {
   "cell_type": "markdown",
   "id": "94608567",
   "metadata": {},
   "source": [
    "### Creating Blank Image using Numpy"
   ]
  },
  {
   "cell_type": "code",
   "execution_count": 13,
   "id": "ee75acf7",
   "metadata": {},
   "outputs": [],
   "source": [
    "image=numpy.ones((900,1000))"
   ]
  },
  {
   "cell_type": "markdown",
   "id": "1b31aa78",
   "metadata": {},
   "source": [
    "### Displaying Blank Image"
   ]
  },
  {
   "cell_type": "code",
   "execution_count": 14,
   "id": "4dc71bdf",
   "metadata": {},
   "outputs": [],
   "source": [
    "cv2.imshow(\"blank_image\",image)\n",
    "cv2.waitKey()\n",
    "cv2.destroyAllWindows()"
   ]
  },
  {
   "cell_type": "markdown",
   "id": "07f818cf",
   "metadata": {},
   "source": [
    "### Creating Custom Image"
   ]
  },
  {
   "cell_type": "code",
   "execution_count": 15,
   "id": "ef8961ea",
   "metadata": {},
   "outputs": [],
   "source": [
    "def create_custom_image(image):\n",
    "    rows,columns=image.shape\n",
    "    k=0\n",
    "    for i in range(0,int(rows/2)):\n",
    "        for j in range(0,int(columns/2)):\n",
    "            image[i,0:k]=0\n",
    "        k+=1\n",
    "    for i in range(int(rows/2),int(rows)):\n",
    "        for j in range(0,k):\n",
    "            image[i,0:k]=0\n",
    "        k-=1\n",
    "\n",
    "        "
   ]
  },
  {
   "cell_type": "code",
   "execution_count": 16,
   "id": "1abdd2a9",
   "metadata": {},
   "outputs": [],
   "source": [
    "create_custom_image(image)"
   ]
  },
  {
   "cell_type": "markdown",
   "id": "5ce27e4a",
   "metadata": {},
   "source": [
    "### Displaying Custom Image"
   ]
  },
  {
   "cell_type": "code",
   "execution_count": 20,
   "id": "6c5bf84f",
   "metadata": {},
   "outputs": [],
   "source": [
    "cv2.imshow(\"custom_image\",image)\n",
    "cv2.waitKey()\n",
    "cv2.destroyAllWindows()"
   ]
  },
  {
   "cell_type": "markdown",
   "id": "1782434a",
   "metadata": {},
   "source": [
    "### Saving Custom Image"
   ]
  },
  {
   "cell_type": "code",
   "execution_count": 21,
   "id": "4432b361",
   "metadata": {},
   "outputs": [
    {
     "ename": "error",
     "evalue": "OpenCV(4.5.2) /tmp/pip-req-build-x6vvo8fj/opencv/modules/imgcodecs/src/loadsave.cpp:650: error: (-2:Unspecified error) could not find a writer for the specified extension in function 'imwrite_'\n",
     "output_type": "error",
     "traceback": [
      "\u001b[0;31m---------------------------------------------------------------------------\u001b[0m",
      "\u001b[0;31merror\u001b[0m                                     Traceback (most recent call last)",
      "\u001b[0;32m<ipython-input-21-f6d04b1442b1>\u001b[0m in \u001b[0;36m<module>\u001b[0;34m\u001b[0m\n\u001b[0;32m----> 1\u001b[0;31m \u001b[0mcv2\u001b[0m\u001b[0;34m.\u001b[0m\u001b[0mimwrite\u001b[0m\u001b[0;34m(\u001b[0m\u001b[0;34m\"custom_image\"\u001b[0m\u001b[0;34m,\u001b[0m\u001b[0mimage\u001b[0m\u001b[0;34m)\u001b[0m\u001b[0;34m\u001b[0m\u001b[0;34m\u001b[0m\u001b[0m\n\u001b[0m",
      "\u001b[0;31merror\u001b[0m: OpenCV(4.5.2) /tmp/pip-req-build-x6vvo8fj/opencv/modules/imgcodecs/src/loadsave.cpp:650: error: (-2:Unspecified error) could not find a writer for the specified extension in function 'imwrite_'\n"
     ]
    }
   ],
   "source": [
    "cv2.imwrite(\"custom_image\",image)"
   ]
  },
  {
   "cell_type": "code",
   "execution_count": null,
   "id": "991f6617",
   "metadata": {},
   "outputs": [],
   "source": []
  }
 ],
 "metadata": {
  "kernelspec": {
   "display_name": "Python 3",
   "language": "python",
   "name": "python3"
  },
  "language_info": {
   "codemirror_mode": {
    "name": "ipython",
    "version": 3
   },
   "file_extension": ".py",
   "mimetype": "text/x-python",
   "name": "python",
   "nbconvert_exporter": "python",
   "pygments_lexer": "ipython3",
   "version": "3.6.8"
  }
 },
 "nbformat": 4,
 "nbformat_minor": 5
}
