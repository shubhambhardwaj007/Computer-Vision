{
 "cells": [
  {
   "cell_type": "code",
   "execution_count": 3,
   "id": "456d7a46",
   "metadata": {},
   "outputs": [],
   "source": [
    "import cv2\n",
    "import numpy"
   ]
  },
  {
   "cell_type": "code",
   "execution_count": 4,
   "id": "7fca9c9c",
   "metadata": {},
   "outputs": [],
   "source": [
    "#Display Images\n",
    "def display_image(image_location,image_title):\n",
    "    if str(type(image_location))==\"<class 'str'>\":\n",
    "        display_image.local_image=cv2.imread(image_location)\n",
    "        cv2.imshow(str(image_title),display_image.local_image)\n",
    "        if cv2.waitKey() == 13:\n",
    "            cv2.destroyAllWindows()\n",
    "    elif str(type(image_location))==\"<class 'numpy.ndarray'>\":\n",
    "        cv2.imshow(image_title,image_location)\n",
    "        if cv2.waitKey() == 13:\n",
    "            cv2.destroyAllWindows()\n",
    "    else: \n",
    "        print(\"Provide suitable option for Image Type\")"
   ]
  },
  {
   "cell_type": "code",
   "execution_count": 7,
   "id": "b894349d",
   "metadata": {},
   "outputs": [],
   "source": [
    "display_image(\"test_images/test_image1.jpg\",\"hello\")"
   ]
  },
  {
   "cell_type": "code",
   "execution_count": 8,
   "id": "77b85f57",
   "metadata": {},
   "outputs": [],
   "source": [
    "display_image(\"test_images/test_image2.jpg\",\"hello\")"
   ]
  },
  {
   "cell_type": "code",
   "execution_count": 15,
   "id": "25d6690c",
   "metadata": {},
   "outputs": [],
   "source": [
    "def automatic_image_face_detection_image(image_location):\n",
    "    import cv2\n",
    "    model=cv2.CascadeClassifier(\"haarcascade_frontalface_default.xml\")\n",
    "    image=cv2.imread(image_location)\n",
    "    faces=model.detectMultiScale(image)\n",
    "    for i in faces:\n",
    "        x1=i[0]\n",
    "        y1=i[1]\n",
    "        x2=x1+i[2]\n",
    "        y2=y1+i[3]\n",
    "        rectangular_photo=cv2.rectangle(image_location,(x1,y1),(x2,y2),[0,255,0],5)\n",
    "    cv2.imshow(\"hello\",rectangular_photo)\n",
    "    if cv2.waitKey() == 13:\n",
    "        cv2.destroyAllWindows()"
   ]
  },
  {
   "cell_type": "code",
   "execution_count": 16,
   "id": "e12080b2",
   "metadata": {},
   "outputs": [
    {
     "ename": "error",
     "evalue": "OpenCV(4.5.2) :-1: error: (-5:Bad argument) in function 'detectMultiScale'\n> Overload resolution failed:\n>  - image is not a numpy array, neither a scalar\n>  - Expected Ptr<cv::UMat> for argument 'image'\n",
     "output_type": "error",
     "traceback": [
      "\u001b[0;31m---------------------------------------------------------------------------\u001b[0m",
      "\u001b[0;31merror\u001b[0m                                     Traceback (most recent call last)",
      "\u001b[0;32m<ipython-input-16-d007d390a02a>\u001b[0m in \u001b[0;36m<module>\u001b[0;34m\u001b[0m\n\u001b[0;32m----> 1\u001b[0;31m \u001b[0mautomatic_image_face_detection_image\u001b[0m\u001b[0;34m(\u001b[0m\u001b[0;34m\"test_images/test_image1.jpg\"\u001b[0m\u001b[0;34m)\u001b[0m\u001b[0;34m\u001b[0m\u001b[0;34m\u001b[0m\u001b[0m\n\u001b[0m",
      "\u001b[0;32m<ipython-input-15-6698e500d29c>\u001b[0m in \u001b[0;36mautomatic_image_face_detection_image\u001b[0;34m(image_location)\u001b[0m\n\u001b[1;32m      3\u001b[0m     \u001b[0mmodel\u001b[0m\u001b[0;34m=\u001b[0m\u001b[0mcv2\u001b[0m\u001b[0;34m.\u001b[0m\u001b[0mCascadeClassifier\u001b[0m\u001b[0;34m(\u001b[0m\u001b[0;34m\"haarcascade_frontalface_default.xml\"\u001b[0m\u001b[0;34m)\u001b[0m\u001b[0;34m\u001b[0m\u001b[0;34m\u001b[0m\u001b[0m\n\u001b[1;32m      4\u001b[0m     \u001b[0mimage\u001b[0m\u001b[0;34m=\u001b[0m\u001b[0mcv2\u001b[0m\u001b[0;34m.\u001b[0m\u001b[0mimread\u001b[0m\u001b[0;34m(\u001b[0m\u001b[0mimage_location\u001b[0m\u001b[0;34m)\u001b[0m\u001b[0;34m\u001b[0m\u001b[0;34m\u001b[0m\u001b[0m\n\u001b[0;32m----> 5\u001b[0;31m     \u001b[0mfaces\u001b[0m\u001b[0;34m=\u001b[0m\u001b[0mmodel\u001b[0m\u001b[0;34m.\u001b[0m\u001b[0mdetectMultiScale\u001b[0m\u001b[0;34m(\u001b[0m\u001b[0mimage_location\u001b[0m\u001b[0;34m)\u001b[0m\u001b[0;34m\u001b[0m\u001b[0;34m\u001b[0m\u001b[0m\n\u001b[0m\u001b[1;32m      6\u001b[0m     \u001b[0;32mfor\u001b[0m \u001b[0mi\u001b[0m \u001b[0;32min\u001b[0m \u001b[0mfaces\u001b[0m\u001b[0;34m:\u001b[0m\u001b[0;34m\u001b[0m\u001b[0;34m\u001b[0m\u001b[0m\n\u001b[1;32m      7\u001b[0m         \u001b[0mx1\u001b[0m\u001b[0;34m=\u001b[0m\u001b[0mi\u001b[0m\u001b[0;34m[\u001b[0m\u001b[0;36m0\u001b[0m\u001b[0;34m]\u001b[0m\u001b[0;34m\u001b[0m\u001b[0;34m\u001b[0m\u001b[0m\n",
      "\u001b[0;31merror\u001b[0m: OpenCV(4.5.2) :-1: error: (-5:Bad argument) in function 'detectMultiScale'\n> Overload resolution failed:\n>  - image is not a numpy array, neither a scalar\n>  - Expected Ptr<cv::UMat> for argument 'image'\n"
     ]
    }
   ],
   "source": [
    "automatic_image_face_detection_image(\"test_images/test_image1.jpg\")"
   ]
  },
  {
   "cell_type": "code",
   "execution_count": null,
   "id": "884816af",
   "metadata": {},
   "outputs": [],
   "source": []
  },
  {
   "cell_type": "code",
   "execution_count": null,
   "id": "80143cc4",
   "metadata": {},
   "outputs": [],
   "source": []
  }
 ],
 "metadata": {
  "kernelspec": {
   "display_name": "Python 3",
   "language": "python",
   "name": "python3"
  },
  "language_info": {
   "codemirror_mode": {
    "name": "ipython",
    "version": 3
   },
   "file_extension": ".py",
   "mimetype": "text/x-python",
   "name": "python",
   "nbconvert_exporter": "python",
   "pygments_lexer": "ipython3",
   "version": "3.6.8"
  }
 },
 "nbformat": 4,
 "nbformat_minor": 5
}
