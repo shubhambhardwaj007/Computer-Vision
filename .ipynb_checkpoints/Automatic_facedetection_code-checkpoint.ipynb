{
 "cells": [
  {
   "cell_type": "code",
   "execution_count": null,
   "id": "486cbb02",
   "metadata": {},
   "outputs": [],
   "source": [
    "import cv2\n",
    "import numpy"
   ]
  },
  {
   "cell_type": "code",
   "execution_count": null,
   "id": "8403f5eb",
   "metadata": {},
   "outputs": [],
   "source": [
    "#Capture Photograph\n",
    "def capture_image(camera_index):\n",
    "    capture_image.capture = cv2.VideoCapture(camera_index)\n",
    "    return_value,capture_image.captured_image=capture_image.capture.read()\n",
    "   # capture_image.capture.release()\n",
    "    print(\"Image Clicked status:\",return_value)\n",
    "    return capture_image.captured_image"
   ]
  },
  {
   "cell_type": "code",
   "execution_count": null,
   "id": "103d0d4e",
   "metadata": {},
   "outputs": [],
   "source": [
    "#Display Images\n",
    "def display_image(image_location,image_title,image_type):\n",
    "    if image_type==\"local\":\n",
    "        display_image.local_image=cv2.imread(image_location)\n",
    "        cv2.imshow(str(image_title),display_image.local_image)\n",
    "        if cv2.waitKey() == 13:\n",
    "            cv2.destroyAllWindows()\n",
    "    elif image_type==\"captured\":\n",
    "        cv2.imshow(image_title,image_location)\n",
    "        if cv2.waitKey() == 13:\n",
    "            cv2.destroyAllWindows()\n",
    "    else: \n",
    "        print(\"Provide suitable option for Image Type\")"
   ]
  },
  {
   "cell_type": "code",
   "execution_count": null,
   "id": "b2d57f47",
   "metadata": {},
   "outputs": [],
   "source": [
    "def draw_rectangle(image_location,pt1,pt2,color,thickness,image_type):\n",
    "    if image_type==\"local\":\n",
    "        local_image=cv2.imread(image_location)\n",
    "        draw_rectangle.rectangle_drawn_image=cv2.rectangle(local_image,pt1,pt2,color,thickness)\n",
    "        return draw_rectangle.rectangle_drawn_image\n",
    "    elif image_type==\"captured\":\n",
    "        draw_rectangle.rectangle_drawn_image=cv2.rectangle(image_location,pt1,pt2,color,thickness)\n",
    "        return draw_rectangle.rectangle_drawn_image\n",
    "    else:\n",
    "        print(\"Provide suitable option for Image Type\")"
   ]
  },
  {
   "cell_type": "code",
   "execution_count": null,
   "id": "77cb7419",
   "metadata": {},
   "outputs": [],
   "source": [
    "display_image(draw_rectangle(capture_image(-1),(100,100),(200,200),[255,0,0],4,\"captured\"),\"rectangle_image\",\"captured\")\n",
    "capture_image.capture.release()"
   ]
  },
  {
   "cell_type": "code",
   "execution_count": null,
   "id": "a47da6b7",
   "metadata": {},
   "outputs": [],
   "source": [
    "display_image(draw_rectangle(\"test_images/test_image_900X900.jpg\",(100,100),(200,200),[255,0,0],4,\"local\"),\"rectangle\",\"captured\")"
   ]
  },
  {
   "cell_type": "code",
   "execution_count": null,
   "id": "f3289c5f",
   "metadata": {},
   "outputs": [],
   "source": [
    "import cv2\n",
    "def automatic_image_face_detection():\n",
    "    capture=cv2.VideoCapture(-1)\n",
    "    model=cv2.CascadeClassifier(\"haarcascades/haarcascade_frontalface_default.xml\")\n",
    "    counter=1\n",
    "    while True:\n",
    "        return_value,captured_video=capture.read()\n",
    "        faces_array=model.detectMultiScale(captured_video)\n",
    "        if len(faces_array)==0:\n",
    "            pass\n",
    "        else:\n",
    "            for i in faces_array:\n",
    "                counter+=1\n",
    "                x1=i[0]\n",
    "                y1=i[1]\n",
    "                x2=x1+i[2]\n",
    "                y2=y1+i[3]\n",
    "                rectangular_photo=cv2.rectangle(captured_video,(x1,y1),(x2,y2),[0,255,0],5)\n",
    "                edited_photo=cv2.cvtColor(rectangular_photo,cv2.COLOR_BGR2HSV_FULL)\n",
    "            cv2.imshow(\"hello\",edited_photo)\n",
    "            if cv2.waitKey(1) == 13:\n",
    "                break\n",
    "    cv2.destroyAllWindows()\n",
    "    capture.release()\n",
    "    "
   ]
  },
  {
   "cell_type": "code",
   "execution_count": null,
   "id": "c2e90bf9",
   "metadata": {},
   "outputs": [],
   "source": [
    "automatic_image_face_detection()"
   ]
  },
  {
   "cell_type": "code",
   "execution_count": null,
   "id": "87744b41",
   "metadata": {},
   "outputs": [],
   "source": []
  },
  {
   "cell_type": "code",
   "execution_count": null,
   "id": "ee5904af",
   "metadata": {},
   "outputs": [],
   "source": []
  },
  {
   "cell_type": "code",
   "execution_count": null,
   "id": "f50b0420",
   "metadata": {},
   "outputs": [],
   "source": [
    "show_local_photo(\"test_image_900X900.jpg\")"
   ]
  },
  {
   "cell_type": "code",
   "execution_count": null,
   "id": "db3fff4a",
   "metadata": {},
   "outputs": [],
   "source": [
    "#Capture Photograph\n",
    "def capture_image():\n",
    "    cap = cv2.VideoCapture(0)\n",
    "    ret,capture_image.captured_photo=cap.read()\n",
    "    cap.release()\n",
    "    print(\"Image Clicked status:\",ret)"
   ]
  },
  {
   "cell_type": "code",
   "execution_count": null,
   "id": "f2453304",
   "metadata": {},
   "outputs": [],
   "source": [
    "rectangle_photo=cv2.rectangle(show_local_photo.photo,(191,110),(696,636),[0,0,255],4)\n",
    "circle_photo=cv2.circle(show_local_photo.photo,(477,427),350,[0,0,255],4)"
   ]
  },
  {
   "cell_type": "code",
   "execution_count": null,
   "id": "5cece072",
   "metadata": {},
   "outputs": [],
   "source": [
    "def show_capture_image(captured_photo):\n",
    "    cv2.imshow(\"hi\",captured_photo)\n",
    "    cv2.waitKey()\n",
    "    cv2.destroyAllWindows()"
   ]
  },
  {
   "cell_type": "code",
   "execution_count": null,
   "id": "66cdb9cf",
   "metadata": {},
   "outputs": [],
   "source": [
    "show_capture_image(rectangle_photo)\n",
    "show_capture_image(circle_photo)"
   ]
  },
  {
   "cell_type": "code",
   "execution_count": null,
   "id": "30ac1724",
   "metadata": {},
   "outputs": [],
   "source": [
    "model=cv2.CascadeClassifier(\"haarcascade_frontalface_default.xml\")"
   ]
  },
  {
   "cell_type": "code",
   "execution_count": null,
   "id": "d9bd2592",
   "metadata": {},
   "outputs": [],
   "source": [
    "model"
   ]
  },
  {
   "cell_type": "code",
   "execution_count": null,
   "id": "86687a1d",
   "metadata": {},
   "outputs": [],
   "source": [
    "faces=model.detectMultiScale(show_local_photo.photo)"
   ]
  },
  {
   "cell_type": "code",
   "execution_count": null,
   "id": "1fb4a645",
   "metadata": {},
   "outputs": [],
   "source": [
    "faces"
   ]
  },
  {
   "cell_type": "code",
   "execution_count": null,
   "id": "ab3b5922",
   "metadata": {},
   "outputs": [],
   "source": [
    "len(faces)"
   ]
  },
  {
   "cell_type": "code",
   "execution_count": null,
   "id": "7daf8598",
   "metadata": {},
   "outputs": [],
   "source": [
    "aphoto=cv2.rectangle(show_local_photo.photo,(234,156),(234+498,156+498),[0,255,0],6)"
   ]
  },
  {
   "cell_type": "code",
   "execution_count": null,
   "id": "864a31d4",
   "metadata": {},
   "outputs": [],
   "source": [
    "#show_local_photo(\"test_image_900X900.jpg\")\n",
    "capture_image()\n",
    "show_capture_image(capture_image.captured_photo)\n",
    "aphoto=cv2.rectangle(show_local_photo.photo,(234,156),(234+498,156+498),[0,255,0],6)\n",
    "show_capture_image(aphoto)"
   ]
  },
  {
   "cell_type": "code",
   "execution_count": null,
   "id": "65a935f6",
   "metadata": {},
   "outputs": [],
   "source": [
    "#Capturing Image and drawing rectangle around it\n",
    "import cv2\n",
    "capture=cv2.VideoCapture(-1)\n",
    "return_value,captured_image=capture.read()\n",
    "print(\"Image Clicked status:\",return_value)\n",
    "capture.release()\n",
    "model=cv2.CascadeClassifier(\"haarcascade_frontalface_default.xml\")\n",
    "faces=model.detectMultiScale(captured_image)\n",
    "for i in faces:\n",
    "    x1=i[0]\n",
    "    y1=i[1]\n",
    "    x2=x1+i[2]\n",
    "    y2=y1+i[3]\n",
    "    rectangular_photo=cv2.rectangle(captured_image,(x1,y1),(x2,y2),[0,255,0],5)\n",
    "\n",
    "    cv2.imshow(\"hello\",rectangular_photo)\n",
    "if cv2.waitKey() == 13:\n",
    "    cv2.destroyAllWindows()\n",
    "    "
   ]
  },
  {
   "cell_type": "code",
   "execution_count": null,
   "id": "23594112",
   "metadata": {},
   "outputs": [],
   "source": [
    "#Capturing Video and drawing rectangle around it\n",
    "import cv2\n",
    "capture=cv2.VideoCapture(1)\n",
    "model=cv2.CascadeClassifier(\"haarcascade_frontalface_default.xml\")\n",
    "while True:\n",
    "    return_value,captured_image=capture.read()\n",
    "    #print(\"Video Clicking status:\",return_value)\n",
    "    faces=model.detectMultiScale(captured_image)\n",
    "    if len(faces) == 0:\n",
    "        pass\n",
    "    else:\n",
    "        for i in faces:\n",
    "            print(i)\n",
    "            print(len(faces))\n",
    "            x1=i[0]\n",
    "            y1=i[1]\n",
    "            x2=x1+i[2]\n",
    "            y2=y1+i[3]\n",
    "            rectangular_photo=cv2.rectangle(captured_image,(x1,y1),(x2,y2),[0,255,0],5)\n",
    "        cv2.imshow(\"hello\",rectangular_photo)\n",
    "        if cv2.waitKey(0) == 13:\n",
    "            break\n",
    "cv2.destroyAllWindows()\n",
    "capture.release()\n",
    "    "
   ]
  },
  {
   "cell_type": "code",
   "execution_count": null,
   "id": "c2e6e361",
   "metadata": {},
   "outputs": [],
   "source": [
    "\n",
    "hello=draw_rectangle(\"test_images/test_image_900X900.jpg\",(100,100),(200,200),[255,0,0],4,\"local\")"
   ]
  },
  {
   "cell_type": "code",
   "execution_count": null,
   "id": "7c305cea",
   "metadata": {},
   "outputs": [],
   "source": [
    "hello"
   ]
  },
  {
   "cell_type": "code",
   "execution_count": null,
   "id": "e7c2685a",
   "metadata": {},
   "outputs": [],
   "source": []
  }
 ],
 "metadata": {
  "celltoolbar": "Raw Cell Format",
  "kernelspec": {
   "display_name": "Python 3",
   "language": "python",
   "name": "python3"
  },
  "language_info": {
   "codemirror_mode": {
    "name": "ipython",
    "version": 3
   },
   "file_extension": ".py",
   "mimetype": "text/x-python",
   "name": "python",
   "nbconvert_exporter": "python",
   "pygments_lexer": "ipython3",
   "version": "3.6.8"
  }
 },
 "nbformat": 4,
 "nbformat_minor": 5
}
